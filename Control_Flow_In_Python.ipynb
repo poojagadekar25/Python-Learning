{
 "cells": [
  {
   "cell_type": "markdown",
   "id": "13688553-23a4-4b3f-9822-89e9522a6fe5",
   "metadata": {},
   "source": [
    "***if-else in python***:if-else statements are used to execute code based on whether a certain condition is True or False."
   ]
  },
  {
   "cell_type": "raw",
   "id": "6ef8f802-9326-4991-884b-25e2b4d98c57",
   "metadata": {},
   "source": [
    "if: Checks if the given condition is True.\n",
    "else: Executes when the if condition is False."
   ]
  },
  {
   "cell_type": "code",
   "execution_count": 35,
   "id": "62d76477-e46a-4759-afb7-59afa9ecf80d",
   "metadata": {},
   "outputs": [
    {
     "name": "stdout",
     "output_type": "stream",
     "text": [
      "You are an adult.\n"
     ]
    }
   ],
   "source": [
    "age = 18\n",
    "\n",
    "if age >= 18:\n",
    "    print(\"You are an adult.\")\n",
    "else:\n",
    "    print(\"You are a minor.\")\n"
   ]
  },
  {
   "cell_type": "code",
   "execution_count": 37,
   "id": "3ea9c0d1-224e-4040-a2d2-0c2d66faf23d",
   "metadata": {},
   "outputs": [
    {
     "name": "stdin",
     "output_type": "stream",
     "text": [
      "Enter your age 12\n"
     ]
    },
    {
     "name": "stdout",
     "output_type": "stream",
     "text": [
      "You cannot Vote\n"
     ]
    }
   ],
   "source": [
    "age=int(input(\"Enter your age\"))\n",
    "if age>=18:\n",
    "    print(\"You can vote\")\n",
    "else:\n",
    "    print(\"You cannot Vote\")"
   ]
  },
  {
   "cell_type": "code",
   "execution_count": 43,
   "id": "2c219cf2-ad30-4774-9c6f-f34d8b6c2e84",
   "metadata": {},
   "outputs": [
    {
     "name": "stdin",
     "output_type": "stream",
     "text": [
      "enter number: 4\n"
     ]
    },
    {
     "name": "stdout",
     "output_type": "stream",
     "text": [
      "number is even\n"
     ]
    }
   ],
   "source": [
    "#program to check odd or even\n",
    "num=int(input(\"enter number:\"))\n",
    "if(num%2==0):\n",
    "        print(\"number is even\")\n",
    "else:\n",
    "        print(\"number is odd\")"
   ]
  },
  {
   "cell_type": "markdown",
   "id": "f908d234-8be2-452e-b32f-6e27316d9364",
   "metadata": {},
   "source": [
    "***if-elif-else***"
   ]
  },
  {
   "cell_type": "code",
   "execution_count": 41,
   "id": "6f63c364-aeff-4365-a7ed-9725e6f71ca1",
   "metadata": {},
   "outputs": [
    {
     "name": "stdin",
     "output_type": "stream",
     "text": [
      "enter your marks 85\n"
     ]
    },
    {
     "name": "stdout",
     "output_type": "stream",
     "text": [
      "grade is: B\n"
     ]
    }
   ],
   "source": [
    "marks=int(input(\"enter your marks\"))\n",
    "if(marks>=90 and marks<=100):\n",
    "    grade=\"A\"\n",
    "elif(marks>=80 and marks<90):\n",
    "    grade=\"B\"\n",
    "elif(marks>=70 and marks<80):\n",
    "    grade=\"C\"\n",
    "elif(marks>=60 and marks<70):\n",
    "    grade=\"D\"\n",
    "else:\n",
    "    grade=\"fail\"\n",
    "print(\"grade is:\",grade)"
   ]
  },
  {
   "cell_type": "code",
   "execution_count": 45,
   "id": "743d1fad-c90a-496c-8fe8-47531b0e9f8b",
   "metadata": {},
   "outputs": [
    {
     "name": "stdin",
     "output_type": "stream",
     "text": [
      "enter first number 4\n",
      "enter second number 6\n",
      "enter third number 2\n"
     ]
    },
    {
     "name": "stdout",
     "output_type": "stream",
     "text": [
      "greater number from  4 , 6 , 2 is 6\n"
     ]
    }
   ],
   "source": [
    "#program to find greatest among the three number\n",
    "a=int(input(\"enter first number\"))\n",
    "b=int(input(\"enter second number\"))\n",
    "c=int(input(\"enter third number\"))\n",
    "if(a>b and a>c):\n",
    "    great=a\n",
    "elif(b>c):\n",
    "    great=b\n",
    "else:\n",
    "    great=c\n",
    "print (\"greater number from \",a,\",\",b,\",\",c,\"is\",great)"
   ]
  },
  {
   "cell_type": "markdown",
   "id": "154e068f-e749-4beb-991f-7f6119569846",
   "metadata": {},
   "source": [
    "***Python while loop: Block of statements continiously executed until a specific condition is true***"
   ]
  },
  {
   "cell_type": "code",
   "execution_count": 50,
   "id": "51a954a8-d539-4070-be4c-577397899fde",
   "metadata": {},
   "outputs": [
    {
     "name": "stdout",
     "output_type": "stream",
     "text": [
      "hello\n",
      "hello\n",
      "hello\n",
      "hello\n",
      "hello\n"
     ]
    }
   ],
   "source": [
    "count=0 \n",
    "while(count<5): \n",
    "    count=count+1 \n",
    "    print(\"hello\")"
   ]
  },
  {
   "cell_type": "raw",
   "id": "5c128c31-d142-4307-a07b-5c03d98ce0d2",
   "metadata": {},
   "source": [
    "A while loop is best when:\n",
    "-The number of iterations is not fixed.\n",
    "-You are waiting for a condition to be true or false.\n",
    "-You need to keep checking or performing a task repeatedly until something changes."
   ]
  },
  {
   "cell_type": "code",
   "execution_count": 4,
   "id": "f243db74-f98f-4d17-be52-275cfa6b7e33",
   "metadata": {},
   "outputs": [
    {
     "name": "stdin",
     "output_type": "stream",
     "text": [
      "Enter your password:  secr\n",
      "Enter your password:  secret\n"
     ]
    }
   ],
   "source": [
    "password = \"\"\n",
    "while password != \"secret\":\n",
    "    password = input(\"Enter your password: \")\n"
   ]
  },
  {
   "cell_type": "code",
   "execution_count": 6,
   "id": "281c8c9f-cdf1-44a3-a0a4-28d4f29c6313",
   "metadata": {},
   "outputs": [
    {
     "name": "stdout",
     "output_type": "stream",
     "text": [
      "10\n",
      "9\n",
      "8\n",
      "7\n",
      "6\n",
      "5\n",
      "4\n",
      "3\n",
      "2\n",
      "1\n"
     ]
    }
   ],
   "source": [
    "countdown = 10\n",
    "while countdown > 0:\n",
    "    print(countdown)\n",
    "    countdown -= 1\n"
   ]
  },
  {
   "cell_type": "code",
   "execution_count": 8,
   "id": "17d9c4b6-9015-4a62-a241-cf0723417e03",
   "metadata": {},
   "outputs": [
    {
     "name": "stdin",
     "output_type": "stream",
     "text": [
      "Enter 1 to continue, 0 to exit:  1\n",
      "Enter 1 to continue, 0 to exit:  0\n"
     ]
    }
   ],
   "source": [
    "while True:\n",
    "    choice = input(\"Enter 1 to continue, 0 to exit: \")\n",
    "    if choice == \"0\":\n",
    "        break\n"
   ]
  },
  {
   "cell_type": "code",
   "execution_count": 10,
   "id": "3c2ac9bb-473d-40d9-89ae-933658096f3b",
   "metadata": {},
   "outputs": [
    {
     "name": "stdin",
     "output_type": "stream",
     "text": [
      "Enter a positive number:  -3\n",
      "Enter a positive number:  0\n",
      "Enter a positive number:  2\n"
     ]
    }
   ],
   "source": [
    "number = -1\n",
    "while number <= 0:\n",
    "    number = int(input(\"Enter a positive number: \"))\n"
   ]
  },
  {
   "cell_type": "markdown",
   "id": "f79ab3f9-82ce-4d85-8fe3-195f72d124bb",
   "metadata": {},
   "source": [
    "****Python For Loop****:It is used to iterate over a sequence (like a list, tuple, string, dictionary, or range) and perform an action for each item in that sequence. "
   ]
  },
  {
   "cell_type": "raw",
   "id": "79ed46c1-5cde-47f5-bb79-309b699f1853",
   "metadata": {},
   "source": [
    "Syntax:\n",
    "for item in sequence:\n",
    "    # code block to execute for each item\n",
    "item: A variable that takes the value of each element in the sequence, one at a time."
   ]
  },
  {
   "cell_type": "code",
   "execution_count": 14,
   "id": "29b885c8-87be-403d-9bb6-588d6c62c288",
   "metadata": {},
   "outputs": [
    {
     "name": "stdout",
     "output_type": "stream",
     "text": [
      "apple\n",
      "banana\n",
      "cherry\n"
     ]
    }
   ],
   "source": [
    "fruits = [\"apple\", \"banana\", \"cherry\"]\n",
    "for fruit in fruits:\n",
    "    print(fruit)\n"
   ]
  },
  {
   "cell_type": "code",
   "execution_count": 16,
   "id": "476b708c-4b2f-4cd1-ad05-022676bc5b9b",
   "metadata": {},
   "outputs": [
    {
     "name": "stdout",
     "output_type": "stream",
     "text": [
      "0\n",
      "1\n",
      "2\n",
      "3\n",
      "4\n"
     ]
    }
   ],
   "source": [
    "#Using range()\n",
    "for i in range(5):  # Generates numbers 0 to 4\n",
    "    print(i)\n"
   ]
  },
  {
   "cell_type": "code",
   "execution_count": 18,
   "id": "411be33d-d843-44a3-a77c-f00fcb007c4d",
   "metadata": {},
   "outputs": [
    {
     "name": "stdout",
     "output_type": "stream",
     "text": [
      "P\n",
      "y\n",
      "t\n",
      "h\n",
      "o\n",
      "n\n"
     ]
    }
   ],
   "source": [
    "#iterate over a string\n",
    "word = \"Python\"\n",
    "for letter in word:\n",
    "    print(letter)\n"
   ]
  },
  {
   "cell_type": "code",
   "execution_count": 20,
   "id": "d6766e82-be61-44dc-ab58-fa65d1f7d9fb",
   "metadata": {},
   "outputs": [
    {
     "name": "stdout",
     "output_type": "stream",
     "text": [
      "name Alice\n",
      "age 25\n"
     ]
    }
   ],
   "source": [
    "#iterate over dictionary\n",
    "person = {\"name\": \"Alice\", \"age\": 25}\n",
    "for key in person:\n",
    "    print(key, person[key])\n"
   ]
  },
  {
   "cell_type": "markdown",
   "id": "e064db07-aaed-4d85-9f44-3cc400bd6624",
   "metadata": {},
   "source": [
    "****Using for loop with break and continue****"
   ]
  },
  {
   "cell_type": "raw",
   "id": "ed3b7815-b335-4b32-b4d5-b1acfc3811bf",
   "metadata": {},
   "source": [
    "break==>It is used to exit the loop early.\n",
    "continue==>It is use to skip that iteration"
   ]
  },
  {
   "cell_type": "code",
   "execution_count": 25,
   "id": "8f7f6c10-277d-4163-b9ed-6243859b8419",
   "metadata": {},
   "outputs": [
    {
     "name": "stdout",
     "output_type": "stream",
     "text": [
      "1\n",
      "2\n"
     ]
    }
   ],
   "source": [
    "numbers = [1, 2, 3, 4, 5]\n",
    "for num in numbers:\n",
    "    if num == 3:\n",
    "        break  # Exit loop when num is 3\n",
    "    print(num)\n"
   ]
  },
  {
   "cell_type": "code",
   "execution_count": 27,
   "id": "fe4ccedf-8bbe-48d8-babe-66f619fb7abf",
   "metadata": {},
   "outputs": [
    {
     "name": "stdout",
     "output_type": "stream",
     "text": [
      "1\n",
      "2\n",
      "4\n",
      "5\n"
     ]
    }
   ],
   "source": [
    "numbers = [1, 2, 3, 4, 5]\n",
    "for num in numbers:\n",
    "    if num == 3:\n",
    "        continue  # Skip this iteration when num is 3\n",
    "    print(num)\n"
   ]
  },
  {
   "cell_type": "code",
   "execution_count": null,
   "id": "7001ee65-1ed5-4304-8e70-3581096b8775",
   "metadata": {},
   "outputs": [],
   "source": []
  }
 ],
 "metadata": {
  "kernelspec": {
   "display_name": "Python 3 (ipykernel)",
   "language": "python",
   "name": "python3"
  },
  "language_info": {
   "codemirror_mode": {
    "name": "ipython",
    "version": 3
   },
   "file_extension": ".py",
   "mimetype": "text/x-python",
   "name": "python",
   "nbconvert_exporter": "python",
   "pygments_lexer": "ipython3",
   "version": "3.12.4"
  }
 },
 "nbformat": 4,
 "nbformat_minor": 5
}
