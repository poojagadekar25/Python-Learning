{
 "cells": [
  {
   "cell_type": "markdown",
   "id": "14b7084e-e9ea-4e0e-a553-c7892237b6e4",
   "metadata": {},
   "source": [
    "****Classes in python****"
   ]
  },
  {
   "cell_type": "markdown",
   "id": "94769adc-0473-49b8-8889-428fe3f963ae",
   "metadata": {},
   "source": [
    "-Syntax to create class==> class ClassName:\n",
    "-Classes are created by keyword class.\n",
    "-Attributes are the variables that belong to a class."
   ]
  },
  {
   "cell_type": "code",
   "execution_count": null,
   "id": "b83c5869-db35-454d-a49a-9e2f43be911c",
   "metadata": {},
   "outputs": [],
   "source": [
    "class Student:\n",
    "    x=5"
   ]
  },
  {
   "cell_type": "markdown",
   "id": "74c30784-8773-4528-8518-3c1e5f4d4ad9",
   "metadata": {},
   "source": [
    "****Use of pass keyword****"
   ]
  },
  {
   "cell_type": "raw",
   "id": "901237e8-a662-49e6-af9f-5ea78185c0f4",
   "metadata": {},
   "source": [
    "- Creatiion of empty object in python gives error \n",
    "- To remove that error we use pass keyword"
   ]
  },
  {
   "cell_type": "code",
   "execution_count": 43,
   "id": "ed9f3a3e-7817-42b5-bdf2-4e8323ae5f8a",
   "metadata": {},
   "outputs": [],
   "source": [
    "class Student:\n",
    "    pass"
   ]
  },
  {
   "cell_type": "markdown",
   "id": "e854636f-ce97-4476-8ada-898048400cee",
   "metadata": {},
   "source": [
    "****Objects in Python****"
   ]
  },
  {
   "cell_type": "raw",
   "id": "241833e5-2e3a-4bbf-93f9-9a1ecbcc0690",
   "metadata": {},
   "source": [
    "The object is an entity that has a state and behavior associated with it.\n",
    "State: It is represented by the attributes of an object.\n",
    "Behavior: It is represented by the methods of an object."
   ]
  },
  {
   "cell_type": "code",
   "execution_count": 49,
   "id": "fbd086fd-965c-4b6a-90c7-f46ea56c9587",
   "metadata": {},
   "outputs": [],
   "source": [
    "#Creating object\n",
    "obj=Student()"
   ]
  },
  {
   "cell_type": "markdown",
   "id": "ee989c8d-7903-4bfa-9b18-d2ab252d6f9a",
   "metadata": {},
   "source": [
    "****__init__ method****"
   ]
  },
  {
   "cell_type": "raw",
   "id": "71662669-647e-420b-810f-a3325c88261d",
   "metadata": {},
   "source": [
    "__init__ method is similar to constructor in java\n",
    "It gets executed immediately when object of class is created\n",
    "It is useful for initialization of object"
   ]
  },
  {
   "cell_type": "code",
   "execution_count": 73,
   "id": "d5c741c2-0a2e-4225-9e1d-45de91b3f5e2",
   "metadata": {},
   "outputs": [
    {
     "name": "stdout",
     "output_type": "stream",
     "text": [
      "pooja\n",
      "6\n",
      "Gayatri\n",
      "3\n"
     ]
    }
   ],
   "source": [
    "class Student:\n",
    "  def __init__(self, name, Rollno):\n",
    "    self.name = name\n",
    "    self.Rollno = Rollno\n",
    "s1=Student(\"pooja\",6)\n",
    "print(s1.name)\n",
    "print(s1.Rollno)\n",
    "s2=Student(\"Gayatri\",3)\n",
    "print(s2.name)\n",
    "print(s2.Rollno)"
   ]
  },
  {
   "cell_type": "markdown",
   "id": "c34d535a-9127-4660-bf5c-e69661ce7978",
   "metadata": {},
   "source": [
    "****self parameter****"
   ]
  },
  {
   "cell_type": "raw",
   "id": "cec688ce-cc44-417f-b51d-2d5208eeb8cf",
   "metadata": {},
   "source": [
    "-Class methods must have an extra first parameter in the method definition.\n",
    "-self parameter is similar to 'this' keyword in java.\n",
    "-When we call the method we do not required to pass any value for self parameter,python automatically takes it.\n",
    "-It is just used to refer current instance of the class.\n"
   ]
  },
  {
   "cell_type": "code",
   "execution_count": 105,
   "id": "24af296f-87bf-4aaf-a9d6-790e5ac29f83",
   "metadata": {},
   "outputs": [
    {
     "name": "stdout",
     "output_type": "stream",
     "text": [
      "My color is Blue\n",
      "I have 2 legs\n",
      "I am running\n",
      "My color is Indigo\n",
      "I have 2 legs\n",
      "I am running\n"
     ]
    }
   ],
   "source": [
    "class Birds:\n",
    "    def __init__(self,color,legs):\n",
    "      self.color=color\n",
    "      self.legs=legs\n",
    "    def run(self):\n",
    "        print(\"My color is\",self.color)\n",
    "        print(\"I have\",self.legs,\"legs\")\n",
    "        print(\"I am running\")\n",
    "B1=Birds(\"Blue\",2)\n",
    "B1.run()\n",
    "# Modifying object properties\n",
    "B1.color=\"Indigo\"\n",
    "B1.run()"
   ]
  },
  {
   "cell_type": "code",
   "execution_count": 107,
   "id": "a38c9bc0-6d76-4482-94c2-d19f43595f0a",
   "metadata": {},
   "outputs": [],
   "source": [
    "# Deleting object properties\n",
    "del B1.legs"
   ]
  },
  {
   "cell_type": "code",
   "execution_count": 127,
   "id": "ee32fe2c-16ea-4945-a00f-6ab21ec1bad2",
   "metadata": {},
   "outputs": [
    {
     "name": "stdout",
     "output_type": "stream",
     "text": [
      "Rs 500 is debited\n",
      "Available balance 9500\n",
      "Rs 200 is credited\n",
      "Available balance 9700\n"
     ]
    }
   ],
   "source": [
    "class account:\n",
    "    def __init__(self,bal,acc):\n",
    "        self.bal=bal\n",
    "        self.acc=acc\n",
    "    def credit(self,amount):\n",
    "        self.bal+=amount\n",
    "        print(\"Rs\",amount,\"is credited\")\n",
    "        print(\"Available balance\",self.bal)\n",
    "    def debit(self,amount):\n",
    "        self.bal-=amount\n",
    "        print(\"Rs\",amount,\"is debited\")\n",
    "        print(\"Available balance\",self.bal)\n",
    "    def get_bal(self):\n",
    "        return self.bal\n",
    "acc1 = account(10000,12345)\n",
    "acc1.debit(500)\n",
    "acc1.credit(200)"
   ]
  },
  {
   "cell_type": "markdown",
   "id": "3bb6f4cb-08ba-40a4-93bb-412c044c880d",
   "metadata": {},
   "source": [
    "****Inheritance in Python****"
   ]
  },
  {
   "cell_type": "raw",
   "id": "618cece4-f399-4e50-960c-7c214abb8416",
   "metadata": {},
   "source": [
    "Inheritance allows us to define a class that inherits all the methods and properties from another class.\n",
    "Parent class is the class being inherited from, also called base class.\n",
    "Child class is the class that inherits from another class, also called derived class.\n"
   ]
  },
  {
   "cell_type": "markdown",
   "id": "c1f66241-72de-4578-9ba8-4f6f6fd710f7",
   "metadata": {},
   "source": [
    "****Creating Parent Class****"
   ]
  },
  {
   "cell_type": "code",
   "execution_count": 20,
   "id": "eef4f400-1719-4ee3-90a6-94b14783f851",
   "metadata": {},
   "outputs": [
    {
     "name": "stdout",
     "output_type": "stream",
     "text": [
      "PREC 2245\n"
     ]
    }
   ],
   "source": [
    "# Any class can be a parent class \n",
    "class College():\n",
    "    def __init__(self,name,code):\n",
    "        self.name=name\n",
    "        self.code=code\n",
    "    def print(self):\n",
    "        print(self.name,self.code)\n",
    "c1=College(\"PREC\",2245)\n",
    "c1.print()"
   ]
  },
  {
   "cell_type": "markdown",
   "id": "eb58c5c7-25f1-40c0-97f7-2230c686b01c",
   "metadata": {},
   "source": [
    "****Creating Child Class****"
   ]
  },
  {
   "cell_type": "code",
   "execution_count": 65,
   "id": "85b1ef71-1a7d-4792-bb52-0fff09290476",
   "metadata": {},
   "outputs": [
    {
     "name": "stdout",
     "output_type": "stream",
     "text": [
      "object class is called\n",
      "It 5455\n"
     ]
    },
    {
     "data": {
      "text/plain": [
       "'It'"
      ]
     },
     "execution_count": 65,
     "metadata": {},
     "output_type": "execute_result"
    }
   ],
   "source": [
    "class department(College):\n",
    "    def display(self):\n",
    "        print(\"object class is called\")\n",
    "d1=department(\"It\",5455)\n",
    "d1.display() # here child class called its own method\n",
    "d1.print()# So here child class called the parent class method"
   ]
  },
  {
   "cell_type": "markdown",
   "id": "e2f931b3-4d9a-4293-bbf3-5ed2286d903e",
   "metadata": {},
   "source": [
    "****Instance Variable****"
   ]
  },
  {
   "cell_type": "raw",
   "id": "06275765-bb6d-4325-9a37-5a00f5e8d2b7",
   "metadata": {},
   "source": [
    "-Variables defined inside thee __init__ are the instance variable or object.\n",
    "-For ex in above code name and code is the instance variable or object of class employee\n",
    "-Here as class department inherits the properties of class College name and code are also instance variable of class department."
   ]
  },
  {
   "cell_type": "markdown",
   "id": "f2b4892b-9bfa-4538-bb60-86fb60085145",
   "metadata": {},
   "source": [
    "****Types of Inheritance****"
   ]
  },
  {
   "cell_type": "raw",
   "id": "42148201-9a93-494b-9a19-c4c9c738d87f",
   "metadata": {},
   "source": [
    "1) Singal Inheritance-child class inherits from only one parent class\n",
    "2) Multiple Inheritance- Child class inherits from more than one parent class\n",
    "3) Multilevel Inheritance-child and grandchild relationship"
   ]
  },
  {
   "cell_type": "code",
   "execution_count": 68,
   "id": "7958962b-086e-4966-b7e7-cf7cf066e8e3",
   "metadata": {},
   "outputs": [
    {
     "name": "stdout",
     "output_type": "stream",
     "text": [
      "Animal sound\n",
      "Flying high\n",
      "Parrot talking\n"
     ]
    }
   ],
   "source": [
    "#ex of multiple inheritance\n",
    "# Define the first parent class\n",
    "class Animal:\n",
    "    def speak(self):\n",
    "        return \"Animal sound\"\n",
    "class Bird:\n",
    "    def fly(self):\n",
    "        return \"Flying high\"\n",
    "class Parrot(Animal, Bird):\n",
    "    def talk(self):\n",
    "        return \"Parrot talking\"\n",
    "parrot = Parrot()\n",
    "print(parrot.speak())  \n",
    "print(parrot.fly())   \n",
    "print(parrot.talk())   \n"
   ]
  },
  {
   "cell_type": "code",
   "execution_count": 72,
   "id": "e42dd67e-2b17-4d67-b0e2-3f362cf3d31f",
   "metadata": {},
   "outputs": [
    {
     "name": "stdout",
     "output_type": "stream",
     "text": [
      "Animal sound\n",
      "Mammal walking\n",
      "Dog barking\n"
     ]
    }
   ],
   "source": [
    "class Animal:\n",
    "    def speak(self):\n",
    "        return \"Animal sound\"\n",
    "class Mammal(Animal):\n",
    "    def walk(self):\n",
    "        return \"Mammal walking\"\n",
    "class Dog(Mammal):\n",
    "    def bark(self):\n",
    "        return \"Dog barking\"\n",
    "dog = Dog()\n",
    "print(dog.speak())  \n",
    "print(dog.walk())   \n",
    "print(dog.bark())   "
   ]
  },
  {
   "cell_type": "markdown",
   "id": "9b90d7e2-d088-45ad-9964-acf31380050b",
   "metadata": {},
   "source": [
    "****super() keyword****"
   ]
  },
  {
   "cell_type": "code",
   "execution_count": 113,
   "id": "b9e1674f-066f-4e97-ba84-5618b0c94eb4",
   "metadata": {},
   "outputs": [
    {
     "name": "stdout",
     "output_type": "stream",
     "text": [
      "mobile class constructor is called\n",
      "Computer class constructor called\n",
      "hi\n"
     ]
    },
    {
     "data": {
      "text/plain": [
       "'8gb'"
      ]
     },
     "execution_count": 113,
     "metadata": {},
     "output_type": "execute_result"
    }
   ],
   "source": [
    "class Computer:\n",
    "    def __init__(self):\n",
    "        self.ram = \"8gb\"\n",
    "        self.storage = \"512\"\n",
    "        print(\"Computer class constructor called\")\n",
    "    def display(self):\n",
    "        print(\"hi\")\n",
    "\n",
    "class Mobile(Computer):\n",
    "    def __init__(self):\n",
    "        self.model=\"mobile\"\n",
    "        print(\"mobile class constructor is called\")\n",
    "        super().__init__()\n",
    "apple = Mobile()  \n",
    "apple.display()    \n",
    "apple.ram # if we don't use super to call the variables initialized in parent class constructor then this line will gives error as child class contructor \n",
    "          # overrides the parent class constructor due to which we are unable to call parent class contructor\n",
    "\n"
   ]
  },
  {
   "cell_type": "code",
   "execution_count": 115,
   "id": "49a35b11-305f-4f02-96d2-77eafc870951",
   "metadata": {},
   "outputs": [
    {
     "data": {
      "text/plain": [
       "'512'"
      ]
     },
     "execution_count": 115,
     "metadata": {},
     "output_type": "execute_result"
    }
   ],
   "source": [
    "apple.storage"
   ]
  },
  {
   "cell_type": "code",
   "execution_count": 125,
   "id": "bdec02a6-6253-4a78-a98b-1c3919d37077",
   "metadata": {},
   "outputs": [
    {
     "name": "stdout",
     "output_type": "stream",
     "text": [
      "I am running with fastest speed\n"
     ]
    }
   ],
   "source": [
    "class Car:\n",
    "    def run(self):\n",
    "        Print(\"i am running \")\n",
    "class Mahindra(Car):\n",
    "    def run(self):\n",
    "        print(\"I am running with fastest speed\")\n",
    "M=Mahindra()\n",
    "M.run()\n"
   ]
  },
  {
   "cell_type": "raw",
   "id": "9d10c7e8-c87e-404c-93e3-bbf5a62f3736",
   "metadata": {},
   "source": [
    "In above code both parent and child has the same run() method when we call the run method by object of child class \n",
    "child class method get executes. So if we want the parent class run() method we have to use super() function"
   ]
  },
  {
   "cell_type": "code",
   "execution_count": 131,
   "id": "5c6f8b21-429b-4e46-b96e-52b4655d329e",
   "metadata": {},
   "outputs": [
    {
     "name": "stdout",
     "output_type": "stream",
     "text": [
      "I am running \n"
     ]
    }
   ],
   "source": [
    "class Car:\n",
    "    def run(self):\n",
    "        print(\"I am running \")\n",
    "class Mahindra(Car):\n",
    "    def run(self):\n",
    "        super().run()\n",
    "        # print(\"I am running with fastest speed\")\n",
    "M=Mahindra()\n",
    "M.run()\n"
   ]
  },
  {
   "cell_type": "markdown",
   "id": "3ee7ed5e-3a70-466c-915b-054ecc523795",
   "metadata": {},
   "source": [
    "****Decorators ****"
   ]
  },
  {
   "cell_type": "raw",
   "id": "e56d624c-73ba-4e75-a4ae-a5cdd8936f56",
   "metadata": {},
   "source": [
    " -modify or extend the behavior of functions or methods without changing their actual code. \n",
    " -decorator in Python is essentially a function that takes another function as an argument, adds some\n",
    "   functionality to it, and returns the modified function."
   ]
  },
  {
   "cell_type": "code",
   "execution_count": 137,
   "id": "f3238c61-dd57-4f7b-b9f4-bb364a680141",
   "metadata": {},
   "outputs": [
    {
     "name": "stdout",
     "output_type": "stream",
     "text": [
      "Something is happening before the function is called.\n",
      "Hello!\n",
      "Something is happening after the function is called.\n"
     ]
    }
   ],
   "source": [
    "def my_decorator(func):\n",
    "    def wrapper():\n",
    "        print(\"Something is happening before the function is called.\")\n",
    "        func()\n",
    "        print(\"Something is happening after the function is called.\")\n",
    "    return wrapper\n",
    "@my_decorator\n",
    "def say_hello():\n",
    "    print(\"Hello!\")\n",
    "say_hello()\n"
   ]
  },
  {
   "cell_type": "code",
   "execution_count": 157,
   "id": "ff9f6b24-b4b2-4f09-ada1-fbfe5b4b4772",
   "metadata": {},
   "outputs": [
    {
     "name": "stdout",
     "output_type": "stream",
     "text": [
      "hello\n",
      "Pooja\n",
      "You have successfully executed the function\n"
     ]
    }
   ],
   "source": [
    "def function1(function):\n",
    "    def wrapper(*args,**kwargs):\n",
    "        print(\"hello\")\n",
    "        function(*args,**kwargs)\n",
    "        print(\"You have successfully executed the function\")\n",
    "    return wrapper\n",
    "@function1\n",
    "def function2(name):\n",
    "    print(name)\n",
    "function2(\"Pooja\")"
   ]
  },
  {
   "cell_type": "code",
   "execution_count": null,
   "id": "82d1f648-c238-4dc2-915e-bdebe07f7e9c",
   "metadata": {},
   "outputs": [],
   "source": []
  }
 ],
 "metadata": {
  "kernelspec": {
   "display_name": "Python 3 (ipykernel)",
   "language": "python",
   "name": "python3"
  },
  "language_info": {
   "codemirror_mode": {
    "name": "ipython",
    "version": 3
   },
   "file_extension": ".py",
   "mimetype": "text/x-python",
   "name": "python",
   "nbconvert_exporter": "python",
   "pygments_lexer": "ipython3",
   "version": "3.12.4"
  }
 },
 "nbformat": 4,
 "nbformat_minor": 5
}
