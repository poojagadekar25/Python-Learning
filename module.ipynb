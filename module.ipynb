{
 "cells": [
  {
   "cell_type": "markdown",
   "id": "c3f33e06-ef84-4a4f-b445-03dd9577a2e8",
   "metadata": {},
   "source": [
    "****Modules in Python****"
   ]
  },
  {
   "cell_type": "markdown",
   "id": "a3fd965d-9118-4332-a9b2-d32f08aba4ac",
   "metadata": {},
   "source": [
    "Python Module is a file that contains built-in functions, classes,and variables."
   ]
  },
  {
   "cell_type": "markdown",
   "id": "f7d754a9-bcc4-455c-848c-fb67d83ba177",
   "metadata": {},
   "source": [
    "****Create a Module****"
   ]
  },
  {
   "cell_type": "markdown",
   "id": "33aaa0f3-aa41-40a5-b7fc-8c9c1d9527bf",
   "metadata": {},
   "source": [
    "To create a Python module, write the desired code and save that in a file with .py extension."
   ]
  },
  {
   "cell_type": "markdown",
   "id": "4c761dab-6094-44f2-85b9-2f32146b8ba8",
   "metadata": {},
   "source": [
    "****importing module in python****"
   ]
  },
  {
   "cell_type": "raw",
   "id": "9342d0c8-073a-40dc-aa75-890626faf0c1",
   "metadata": {},
   "source": [
    "-We can import function,classes defined in module using import statement\n",
    "-This does not import the functions or classes directly instead imports the module only. \n",
    "-To access the functions inside the module the dot(.) operator is used."
   ]
  },
  {
   "cell_type": "code",
   "execution_count": 6,
   "id": "c089356b-51b8-414d-b3f2-ea9541175582",
   "metadata": {},
   "outputs": [
    {
     "data": {
      "text/plain": [
       "31"
      ]
     },
     "execution_count": 6,
     "metadata": {},
     "output_type": "execute_result"
    }
   ],
   "source": [
    "import test\n",
    "test.add(15,16)"
   ]
  },
  {
   "cell_type": "code",
   "execution_count": 58,
   "id": "91a858b5-72e5-4b31-9f13-5378c60fe6a0",
   "metadata": {},
   "outputs": [
    {
     "data": {
      "text/plain": [
       "5"
      ]
     },
     "execution_count": 58,
     "metadata": {},
     "output_type": "execute_result"
    }
   ],
   "source": [
    "# instead of importing entire module we can import specific method or class or variable from module that we require  \n",
    "from test import add\n",
    "add(2,3)"
   ]
  },
  {
   "cell_type": "markdown",
   "id": "cdd81c96-0cb1-4c4d-88d0-c83472d9eed4",
   "metadata": {},
   "source": [
    "****import all names****"
   ]
  },
  {
   "cell_type": "markdown",
   "id": "b2f01298-cc5a-4cb5-9e14-93a846769959",
   "metadata": {},
   "source": [
    "if we don't no what actually we want from the module then we can import all the methods available in module by using * "
   ]
  },
  {
   "cell_type": "code",
   "execution_count": 65,
   "id": "072a4486-2bd8-45f0-abd1-de5932020a47",
   "metadata": {},
   "outputs": [
    {
     "data": {
      "text/plain": [
       "11"
      ]
     },
     "execution_count": 65,
     "metadata": {},
     "output_type": "execute_result"
    }
   ],
   "source": [
    "from test import *\n",
    "add(5,6)"
   ]
  },
  {
   "cell_type": "code",
   "execution_count": 67,
   "id": "488e4eec-58cd-420e-a42d-fe93e7aee84f",
   "metadata": {},
   "outputs": [
    {
     "data": {
      "text/plain": [
       "2"
      ]
     },
     "execution_count": 67,
     "metadata": {},
     "output_type": "execute_result"
    }
   ],
   "source": [
    "subtract(6,4)"
   ]
  },
  {
   "cell_type": "code",
   "execution_count": 97,
   "id": "313c82bf-d32e-4e74-93ae-2f09905ddf91",
   "metadata": {},
   "outputs": [
    {
     "name": "stdout",
     "output_type": "stream",
     "text": [
      "['__builtins__', '__cached__', '__doc__', '__file__', '__loader__', '__name__', '__package__', '__spec__', 'add', 'subtract']\n"
     ]
    }
   ],
   "source": [
    "print(dir(test))"
   ]
  },
  {
   "cell_type": "code",
   "execution_count": 99,
   "id": "224cc14d-893c-4f0d-a5d2-83203032aeb3",
   "metadata": {},
   "outputs": [
    {
     "name": "stdout",
     "output_type": "stream",
     "text": [
      "['__builtins__', '__cached__', '__doc__', '__file__', '__loader__', '__name__', '__package__', '__spec__', 'print']\n"
     ]
    }
   ],
   "source": [
    "import module2\n",
    "print(dir(module2))"
   ]
  },
  {
   "cell_type": "code",
   "execution_count": 10,
   "id": "db30d031-dd6b-430b-8d0d-4c25bdff3bb5",
   "metadata": {},
   "outputs": [
    {
     "name": "stdout",
     "output_type": "stream",
     "text": [
      "hello\n"
     ]
    }
   ],
   "source": [
    "import Mymodule\n",
    "Mymodule.greetings()"
   ]
  },
  {
   "cell_type": "code",
   "execution_count": null,
   "id": "494bd132-5364-46f1-bbb2-cbe1c4d4a5e6",
   "metadata": {},
   "outputs": [],
   "source": []
  }
 ],
 "metadata": {
  "kernelspec": {
   "display_name": "Python 3 (ipykernel)",
   "language": "python",
   "name": "python3"
  },
  "language_info": {
   "codemirror_mode": {
    "name": "ipython",
    "version": 3
   },
   "file_extension": ".py",
   "mimetype": "text/x-python",
   "name": "python",
   "nbconvert_exporter": "python",
   "pygments_lexer": "ipython3",
   "version": "3.12.4"
  }
 },
 "nbformat": 4,
 "nbformat_minor": 5
}
