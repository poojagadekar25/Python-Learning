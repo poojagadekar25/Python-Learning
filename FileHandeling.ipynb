{
 "cells": [
  {
   "cell_type": "markdown",
   "id": "ff4ae478-6e85-45da-8189-fc75190491c9",
   "metadata": {},
   "source": [
    "*****File Handeling*****"
   ]
  },
  {
   "cell_type": "markdown",
   "id": "ba0e1abf-9c0c-49f7-ae74-68dce2759042",
   "metadata": {},
   "source": [
    "open() is the key function while working with files in python\n",
    "open() function takes two parameters filename and mode\n",
    "There are four types of modes\n",
    "  1) 'r'- Opens a file for reading\n",
    "  2) 'w'- Opens a file for writing\n",
    "  3) 'x'- Creates a new file  and open it for writing\n",
    "  4) 'a'- Opens file for writing,appending to the end of file if it exist\n",
    "  5) 'b'- binary mode\n",
    "  6) 't'- text mode(default)"
   ]
  },
  {
   "cell_type": "markdown",
   "id": "5681729b-05bb-418b-b9c2-df121709c880",
   "metadata": {},
   "source": [
    "*****Opening File*****"
   ]
  },
  {
   "cell_type": "markdown",
   "id": "1f7daaf4-8faf-4766-9529-45fde4d690fb",
   "metadata": {},
   "source": [
    "Firstly here I found an error when I copy the path as \"C:\\Users\\DELL\\Documents\\RandomText.txt\" as in pythoon this backslashes(\\) are \n",
    "considered as escape character. Then I used forward slash"
   ]
  },
  {
   "cell_type": "code",
   "execution_count": 4,
   "id": "7da09b68-4977-4dae-b109-cee37dcb47b4",
   "metadata": {},
   "outputs": [],
   "source": [
    "f = open(\"C:/Users/DELL/Documents/RandomText.txt\", \"r\")"
   ]
  },
  {
   "cell_type": "code",
   "execution_count": 65,
   "id": "ce6529e9-072d-4b71-b04c-4f09eeeb2eec",
   "metadata": {},
   "outputs": [],
   "source": [
    "# Another way to open file\n",
    "# Prefix the string with r to treat it as a raw string, which ignores escape sequences\n",
    "f = open(r\"C:\\Users\\DELL\\Documents\\RandomText.txt\", \"r\")"
   ]
  },
  {
   "cell_type": "markdown",
   "id": "70ac54ff-95bf-4244-8fdb-9b3c623a5bdc",
   "metadata": {},
   "source": [
    "***Reading File***"
   ]
  },
  {
   "cell_type": "markdown",
   "id": "27a56cbf-01d5-4f08-bb69-b52e8ed256ac",
   "metadata": {},
   "source": [
    "read() function is used to read the content of file"
   ]
  },
  {
   "cell_type": "code",
   "execution_count": 11,
   "id": "f2063db7-1506-4707-9f12-9661196ae9f0",
   "metadata": {},
   "outputs": [
    {
     "name": "stdout",
     "output_type": "stream",
     "text": [
      "Python is such a simple language\n",
      "<class 'str'>\n"
     ]
    }
   ],
   "source": [
    "f = open(\"C:/Users/DELL/Documents/RandomText.txt\", \"r\")\n",
    "data=(f.read())\n",
    "print(data)\n",
    "print(type(data))"
   ]
  },
  {
   "cell_type": "markdown",
   "id": "5a072bc4-8c11-4fca-866a-424e17e91322",
   "metadata": {},
   "source": [
    "- Basically read() function returns the entire content of file \n",
    "- If you want to read just some characters of the file then you have to pass the number of character  as a argument to the read function.\n",
    "- Along with this if you want to read the only first line of the file then readline() is used.\n",
    "- If you have to read first two lines from the file then call the readline() method two times"
   ]
  },
  {
   "cell_type": "code",
   "execution_count": 116,
   "id": "7821dc43-e46b-44a2-b37e-202da1c9a751",
   "metadata": {},
   "outputs": [
    {
     "name": "stdout",
     "output_type": "stream",
     "text": [
      "Pytho\n",
      "n is a high-level, general-purpose programming language.\n",
      "\n",
      "Its design philosophy emphasizes code readability with the use of significant indentation. \n",
      "\n"
     ]
    }
   ],
   "source": [
    "f = open(\"C:/Users/DELL/Documents/RandomText.txt\", \"r\")\n",
    "print(f.read(5))\n",
    "print(f.readline())  # read one line at a time\n",
    "print(f.readline()) \n"
   ]
  },
  {
   "cell_type": "markdown",
   "id": "d4c100db-a47a-4a44-8ec7-52b42911d4c0",
   "metadata": {},
   "source": [
    "- In above result when we run the readline() function it reads from the sixth character of the line because we already executed read() function \n",
    "  which reads 5 characters then pointer starts reading from sixth character.\n",
    "- To avoid this either we can close the file and again reopen the file or we can use seek() function.\n",
    "- The seek(0) function in Python is used to move the file pointer to a specific position within the file. When you pass 0 as the argument to seek(), it   moves the file pointer to the very beginning of the file. "
   ]
  },
  {
   "cell_type": "code",
   "execution_count": 126,
   "id": "d8f0ae3e-a797-40f6-81a2-ba50571a757c",
   "metadata": {},
   "outputs": [
    {
     "name": "stdout",
     "output_type": "stream",
     "text": [
      "Pytho\n",
      "Python is a high-level, general-purpose programming language.\n",
      "\n",
      "Its design philosophy emphasizes code readability with the use of significant indentation. \n",
      "\n"
     ]
    }
   ],
   "source": [
    "f = open(\"C:/Users/DELL/Documents/RandomText.txt\", \"r\")\n",
    "print(f.read(5))\n",
    "f.seek(0)\n",
    "print(f.readline())\n",
    "print(f.readline()) \n"
   ]
  },
  {
   "cell_type": "markdown",
   "id": "68985def-c0c2-4ebb-9cc2-c69aed63aa8c",
   "metadata": {},
   "source": [
    "*****Closing File*****==>\n",
    "close() functioon is used to close the file"
   ]
  },
  {
   "cell_type": "code",
   "execution_count": 136,
   "id": "987fa959-b8db-4897-a490-02e434681053",
   "metadata": {},
   "outputs": [
    {
     "name": "stdout",
     "output_type": "stream",
     "text": [
      "Python is a high-level, general-purpose programming language.\n",
      "\n"
     ]
    }
   ],
   "source": [
    "f = open(\"C:/Users/DELL/Documents/RandomText.txt\", \"r\")\n",
    "print(f.readline())\n",
    "f.close()"
   ]
  },
  {
   "cell_type": "markdown",
   "id": "d79fa736-153e-4f0a-8701-aa7d13c9f5da",
   "metadata": {},
   "source": [
    "*****Write Into The Files******"
   ]
  },
  {
   "cell_type": "raw",
   "id": "88be96e8-fb0b-45b8-b6ac-020649bd07a9",
   "metadata": {},
   "source": [
    "To write to an existing file, we have to add a parameter to the open() function:\n",
    "1)'a'==> It append the content at the end of existing content of a file\n",
    "2)'w'==> It overwrites the file.\n"
   ]
  },
  {
   "cell_type": "code",
   "execution_count": null,
   "id": "aec1111b-51b3-4ab1-861f-a06454aad18d",
   "metadata": {},
   "outputs": [],
   "source": [
    "f = open(\"C:/Users/DELL/Documents/RandomText.txt\", \"a\")\n",
    "f.write(\"I am learning file handeling in PYTHON\")\n",
    "f.close()"
   ]
  },
  {
   "cell_type": "code",
   "execution_count": 147,
   "id": "0d7eb05e-d1ef-4d96-b868-909009c40b60",
   "metadata": {},
   "outputs": [
    {
     "name": "stdout",
     "output_type": "stream",
     "text": [
      "Python is a high-level, general-purpose programming language.\n",
      "Its design philosophy emphasizes code readability with the use of significant indentation. \n",
      "Python is dynamically typed and garbage-collected.\n",
      "It supports multiple programming paradigms, including structured (particularly procedural), object-oriented and functional programming.I am learning file handeling in PYTHON\n"
     ]
    }
   ],
   "source": [
    "f = open(\"C:/Users/DELL/Documents/RandomText.txt\", \"r\")\n",
    "print(f.read())"
   ]
  },
  {
   "cell_type": "code",
   "execution_count": 149,
   "id": "bc9857c0-605d-4a58-9375-3c5dcf7ec1d4",
   "metadata": {},
   "outputs": [],
   "source": [
    "f = open(\"C:/Users/DELL/Documents/RandomText.txt\", \"w\")\n",
    "f.write(\"Python is such a simple language\")\n",
    "f.close()"
   ]
  },
  {
   "cell_type": "code",
   "execution_count": 151,
   "id": "6e1b4c80-278c-4357-9b5d-46908b1e23d5",
   "metadata": {},
   "outputs": [
    {
     "name": "stdout",
     "output_type": "stream",
     "text": [
      "Python is such a simple language\n"
     ]
    }
   ],
   "source": [
    "f = open(\"C:/Users/DELL/Documents/RandomText.txt\", \"r\")\n",
    "print(f.read())"
   ]
  },
  {
   "cell_type": "markdown",
   "id": "58a67098-e376-4078-a0d4-a4f86e0af0ab",
   "metadata": {},
   "source": [
    "****Creating Files****"
   ]
  },
  {
   "cell_type": "code",
   "execution_count": 200,
   "id": "dad183db-5881-4f6c-8414-761de81dcf55",
   "metadata": {},
   "outputs": [
    {
     "data": {
      "text/plain": [
       "15"
      ]
     },
     "execution_count": 200,
     "metadata": {},
     "output_type": "execute_result"
    }
   ],
   "source": [
    "f2 = open(\"NewFile.txt\", \"w\")     # Open a new file in write mode\n",
    "f2.write(\"Congratulations!\")      # Write content to the file\n",
    "f2.close()                        # Close the file to save changes"
   ]
  },
  {
   "cell_type": "code",
   "execution_count": 231,
   "id": "dd0859b2-f4d9-4095-8f03-44a0eca6c641",
   "metadata": {},
   "outputs": [
    {
     "name": "stdout",
     "output_type": "stream",
     "text": [
      "Congratulations\n"
     ]
    }
   ],
   "source": [
    "f2 = open(\"NewFile.txt\", \"r\")  \n",
    "print(f2.read())\n",
    "f2.close()"
   ]
  },
  {
   "cell_type": "code",
   "execution_count": 235,
   "id": "a5e6a500-9f96-4f15-81cb-036a402fe5a8",
   "metadata": {},
   "outputs": [],
   "source": [
    "f3=open(\"MyFile.txt\",\"a\")\n",
    "f3.write(\"P99SOFTLoni\")\n",
    "f3.close()"
   ]
  },
  {
   "cell_type": "code",
   "execution_count": 254,
   "id": "1b312471-b084-444c-9bb2-6863c1e0d40d",
   "metadata": {},
   "outputs": [
    {
     "name": "stdout",
     "output_type": "stream",
     "text": [
      "P99SOFTLoni\n"
     ]
    }
   ],
   "source": [
    "f3=open(\"MyFile.txt\",\"r\")\n",
    "print(f3.read())\n"
   ]
  },
  {
   "cell_type": "code",
   "execution_count": 256,
   "id": "8cb160da-6f35-42d8-aef7-4574398e591d",
   "metadata": {},
   "outputs": [],
   "source": [
    "f3.close()"
   ]
  },
  {
   "cell_type": "markdown",
   "id": "6c4e325c-c3bc-4c0e-a747-f787155db1f8",
   "metadata": {},
   "source": [
    "****Delete File In Python****"
   ]
  },
  {
   "cell_type": "raw",
   "id": "58b5f398-bce0-47b3-b8c0-7f053e26888f",
   "metadata": {},
   "source": [
    "TO delete file there is need of importing OS module and use os.remove() function"
   ]
  },
  {
   "cell_type": "code",
   "execution_count": 260,
   "id": "4d5539f6-23bd-4036-ae02-284e4c9b4067",
   "metadata": {},
   "outputs": [],
   "source": [
    "import os\n",
    "os.remove(\"Newfile.txt\")"
   ]
  },
  {
   "cell_type": "code",
   "execution_count": 262,
   "id": "6ffd3e4d-3728-4395-b1e9-983a18c2abf9",
   "metadata": {},
   "outputs": [
    {
     "ename": "FileNotFoundError",
     "evalue": "[Errno 2] No such file or directory: 'NewFile.txt'",
     "output_type": "error",
     "traceback": [
      "\u001b[1;31m---------------------------------------------------------------------------\u001b[0m",
      "\u001b[1;31mFileNotFoundError\u001b[0m                         Traceback (most recent call last)",
      "Cell \u001b[1;32mIn[262], line 1\u001b[0m\n\u001b[1;32m----> 1\u001b[0m f2 \u001b[38;5;241m=\u001b[39m \u001b[38;5;28mopen\u001b[39m(\u001b[38;5;124m\"\u001b[39m\u001b[38;5;124mNewFile.txt\u001b[39m\u001b[38;5;124m\"\u001b[39m, \u001b[38;5;124m\"\u001b[39m\u001b[38;5;124mr\u001b[39m\u001b[38;5;124m\"\u001b[39m)\n",
      "File \u001b[1;32mC:\\Anaconda\\Lib\\site-packages\\IPython\\core\\interactiveshell.py:324\u001b[0m, in \u001b[0;36m_modified_open\u001b[1;34m(file, *args, **kwargs)\u001b[0m\n\u001b[0;32m    317\u001b[0m \u001b[38;5;28;01mif\u001b[39;00m file \u001b[38;5;129;01min\u001b[39;00m {\u001b[38;5;241m0\u001b[39m, \u001b[38;5;241m1\u001b[39m, \u001b[38;5;241m2\u001b[39m}:\n\u001b[0;32m    318\u001b[0m     \u001b[38;5;28;01mraise\u001b[39;00m \u001b[38;5;167;01mValueError\u001b[39;00m(\n\u001b[0;32m    319\u001b[0m         \u001b[38;5;124mf\u001b[39m\u001b[38;5;124m\"\u001b[39m\u001b[38;5;124mIPython won\u001b[39m\u001b[38;5;124m'\u001b[39m\u001b[38;5;124mt let you open fd=\u001b[39m\u001b[38;5;132;01m{\u001b[39;00mfile\u001b[38;5;132;01m}\u001b[39;00m\u001b[38;5;124m by default \u001b[39m\u001b[38;5;124m\"\u001b[39m\n\u001b[0;32m    320\u001b[0m         \u001b[38;5;124m\"\u001b[39m\u001b[38;5;124mas it is likely to crash IPython. If you know what you are doing, \u001b[39m\u001b[38;5;124m\"\u001b[39m\n\u001b[0;32m    321\u001b[0m         \u001b[38;5;124m\"\u001b[39m\u001b[38;5;124myou can use builtins\u001b[39m\u001b[38;5;124m'\u001b[39m\u001b[38;5;124m open.\u001b[39m\u001b[38;5;124m\"\u001b[39m\n\u001b[0;32m    322\u001b[0m     )\n\u001b[1;32m--> 324\u001b[0m \u001b[38;5;28;01mreturn\u001b[39;00m io_open(file, \u001b[38;5;241m*\u001b[39margs, \u001b[38;5;241m*\u001b[39m\u001b[38;5;241m*\u001b[39mkwargs)\n",
      "\u001b[1;31mFileNotFoundError\u001b[0m: [Errno 2] No such file or directory: 'NewFile.txt'"
     ]
    }
   ],
   "source": [
    "f2 = open(\"NewFile.txt\", \"r\")  # successfully get deleted"
   ]
  },
  {
   "cell_type": "markdown",
   "id": "fda60465-dd18-4be9-a0cf-dc61acb41aef",
   "metadata": {},
   "source": [
    "****Replacing a particular string in a file by another string****"
   ]
  },
  {
   "cell_type": "code",
   "execution_count": 15,
   "id": "37bb7f62-61aa-4734-9f97-07cc41ee5fc2",
   "metadata": {},
   "outputs": [
    {
     "data": {
      "text/plain": [
       "61"
      ]
     },
     "execution_count": 15,
     "metadata": {},
     "output_type": "execute_result"
    }
   ],
   "source": [
    "f=open(\"practice.txt\",\"w\")\n",
    "f.write(\"Hi everyone!\\nwe are learning java i/o using java.\\nI like java\")"
   ]
  },
  {
   "cell_type": "code",
   "execution_count": 17,
   "id": "e28c26c5-2e15-41a5-a45d-f273d1f41e13",
   "metadata": {},
   "outputs": [
    {
     "name": "stdout",
     "output_type": "stream",
     "text": [
      "Hi everyone!\n",
      "we are learning java i/o using java.\n",
      "I like java\n"
     ]
    }
   ],
   "source": [
    "f=open(\"practice.txt\",\"r\")\n",
    "data=(f.read())\n",
    "print(data)"
   ]
  },
  {
   "cell_type": "code",
   "execution_count": 119,
   "id": "44fc9c11-c7c9-4d4e-b7aa-1c4f6cf1a6de",
   "metadata": {},
   "outputs": [
    {
     "name": "stdout",
     "output_type": "stream",
     "text": [
      "Hi everyone!\n",
      "we are learning python i/o using python.\n",
      "I like python\n"
     ]
    }
   ],
   "source": [
    "newdata=data.replace(\"java\",\"python\")\n",
    "print(newdata)\n",
    "f.close()\n",
    "f=open(\"practice.txt\",\"w\")\n",
    "f.write(newdata)\n",
    "f.close()\n"
   ]
  },
  {
   "cell_type": "code",
   "execution_count": 121,
   "id": "1c411dbd-d366-44a2-9708-c7f54b6b4735",
   "metadata": {},
   "outputs": [
    {
     "name": "stdout",
     "output_type": "stream",
     "text": [
      "Hi everyone!\n",
      "we are learning python i/o using python.\n",
      "I like python\n"
     ]
    }
   ],
   "source": [
    "f=open(\"practice.txt\",\"r\")\n",
    "print(f.read())"
   ]
  },
  {
   "cell_type": "markdown",
   "id": "12378f59-a75a-4b05-ac10-c9b43ea339da",
   "metadata": {},
   "source": [
    "****finding if any particular string exist in a file or not****"
   ]
  },
  {
   "cell_type": "code",
   "execution_count": 145,
   "id": "75572d59-23b3-43f9-ab70-0d6ecf7ea919",
   "metadata": {},
   "outputs": [],
   "source": [
    "def check_word(word):\n",
    " f=open(\"practice.txt\",\"r\")\n",
    " data=f.read()\n",
    " if(data.find(word)!=-1):\n",
    "    print(\"found\")\n",
    "    f.close()\n",
    " else:\n",
    "   print(\"not found\")\n",
    "   f.close()"
   ]
  },
  {
   "cell_type": "code",
   "execution_count": 125,
   "id": "37c0c299-c418-4dd2-a2d2-7fa7097bec7c",
   "metadata": {},
   "outputs": [
    {
     "name": "stdout",
     "output_type": "stream",
     "text": [
      "found\n"
     ]
    }
   ],
   "source": [
    "check_word(\"python\")"
   ]
  },
  {
   "cell_type": "code",
   "execution_count": 141,
   "id": "6bf29085-9995-4335-98b7-a53322911423",
   "metadata": {},
   "outputs": [
    {
     "name": "stdout",
     "output_type": "stream",
     "text": [
      "not found\n"
     ]
    }
   ],
   "source": [
    "check_word(\"java\")"
   ]
  },
  {
   "cell_type": "markdown",
   "id": "48a53fb9-a04a-45bc-bf14-b9995cef51b9",
   "metadata": {},
   "source": [
    "****To check in which line a specific word or string occurred first****"
   ]
  },
  {
   "cell_type": "code",
   "execution_count": 2,
   "id": "3e384846-866a-4a81-bf07-cd5cdf46fae0",
   "metadata": {},
   "outputs": [],
   "source": [
    "def check_for_line(word):\n",
    "    data=True\n",
    "    line_no=1\n",
    "    f=open(\"practice.txt\",\"r\")\n",
    "    while data:\n",
    "         data=f.readline()\n",
    "         if(word in data):\n",
    "            print(line_no)\n",
    "            return\n",
    "         line_no+=1\n",
    "    return -1\n",
    "    "
   ]
  },
  {
   "cell_type": "code",
   "execution_count": 193,
   "id": "633ddb69-5e94-4116-8325-db35dc45d79a",
   "metadata": {},
   "outputs": [
    {
     "name": "stdout",
     "output_type": "stream",
     "text": [
      "2\n"
     ]
    }
   ],
   "source": [
    "check_for_line(\"python\")"
   ]
  },
  {
   "cell_type": "code",
   "execution_count": null,
   "id": "2b8ef17a-3aae-4f86-8ef0-787c913ff62d",
   "metadata": {},
   "outputs": [],
   "source": []
  },
  {
   "cell_type": "code",
   "execution_count": null,
   "id": "e4dd9143-1ee9-4794-afc2-f64d1770ffdf",
   "metadata": {},
   "outputs": [],
   "source": []
  },
  {
   "cell_type": "code",
   "execution_count": null,
   "id": "6d574d7b-8940-46e3-8a33-b218e0636652",
   "metadata": {},
   "outputs": [],
   "source": []
  }
 ],
 "metadata": {
  "kernelspec": {
   "display_name": "Python 3 (ipykernel)",
   "language": "python",
   "name": "python3"
  },
  "language_info": {
   "codemirror_mode": {
    "name": "ipython",
    "version": 3
   },
   "file_extension": ".py",
   "mimetype": "text/x-python",
   "name": "python",
   "nbconvert_exporter": "python",
   "pygments_lexer": "ipython3",
   "version": "3.12.4"
  }
 },
 "nbformat": 4,
 "nbformat_minor": 5
}
