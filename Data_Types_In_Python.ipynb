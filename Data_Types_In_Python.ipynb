{
 "cells": [
  {
   "cell_type": "markdown",
   "id": "b25b4ca6-ab6b-46fa-ab02-7b6802a63864",
   "metadata": {},
   "source": [
    "****Variables In Python****"
   ]
  },
  {
   "cell_type": "raw",
   "id": "933740c0-f5ad-4427-ab6d-c9094067d9fe",
   "metadata": {},
   "source": [
    "-name given to memory location or container for storing values \n",
    "-no need to declare types of variable in python"
   ]
  },
  {
   "cell_type": "code",
   "execution_count": 3,
   "id": "c2c58a6e-1e52-42b9-a02a-66d09eac5e7f",
   "metadata": {},
   "outputs": [],
   "source": [
    "x=5\n",
    "z=4\n",
    "name=\"pooja\"\n",
    "full_name=\"Pooja Gadekar\" #snake case\n",
    "FullName=\"Pooja Gadekar\" #pascal case\n",
    "fullName=\"Pooja Gadekar\" #camel case"
   ]
  },
  {
   "cell_type": "markdown",
   "id": "29338969-d1a7-4a61-a80f-5a69e4014f38",
   "metadata": {},
   "source": [
    "****Global Variable and Local Variable****"
   ]
  },
  {
   "cell_type": "raw",
   "id": "3c392949-c3e9-4f9c-bc0e-ef022127c6c9",
   "metadata": {},
   "source": [
    "-variable declare outside the function are global variable\n",
    "-varible declare inside the function are local variable"
   ]
  },
  {
   "cell_type": "code",
   "execution_count": 6,
   "id": "0a949cc5-874b-4eb9-b774-d00bea836745",
   "metadata": {},
   "outputs": [
    {
     "name": "stdout",
     "output_type": "stream",
     "text": [
      "6 3\n",
      "6\n"
     ]
    }
   ],
   "source": [
    "a=6  #global variable\n",
    "def read():\n",
    "    b=3  # local variable\n",
    "    print(a,b)\n",
    "read()\n",
    "print(a)"
   ]
  },
  {
   "cell_type": "markdown",
   "id": "3ea30ce5-6b77-4fc7-8fb7-700681b2a7ff",
   "metadata": {},
   "source": [
    "****Data Types In Python****"
   ]
  },
  {
   "cell_type": "code",
   "execution_count": 9,
   "id": "08eeff39-0c5d-4803-a70c-5eada95a35a7",
   "metadata": {},
   "outputs": [
    {
     "name": "stdout",
     "output_type": "stream",
     "text": [
      "<class 'int'>\n",
      "<class 'str'>\n",
      "<class 'bool'>\n",
      "<class 'float'>\n"
     ]
    }
   ],
   "source": [
    "# type() function to check the type of data stored in variable\n",
    "m=5\n",
    "print(type(m))\n",
    "fruit=\"Apple\"\n",
    "print(type(fruit))\n",
    "isPass=True\n",
    "print(type(isPass))\n",
    "n=5.34\n",
    "print(type(n))\n"
   ]
  },
  {
   "cell_type": "code",
   "execution_count": 17,
   "id": "235b5fa5-374d-4d5c-9d44-d92584fefae3",
   "metadata": {},
   "outputs": [],
   "source": [
    "# To specify datatype to variable\n",
    "name=str(\"Kavya\")\n",
    "rollNumber=int(6)\n",
    "isActiveted=bool(True)\n",
    "price=float((9.50))"
   ]
  },
  {
   "cell_type": "markdown",
   "id": "d00daaeb-76f6-4843-9bfd-d0c2a90e38c6",
   "metadata": {},
   "source": [
    "****Type Conversion****-Changing one type into another"
   ]
  },
  {
   "cell_type": "code",
   "execution_count": 32,
   "id": "67d3287f-a994-4fab-b382-24b095032c61",
   "metadata": {},
   "outputs": [
    {
     "name": "stdout",
     "output_type": "stream",
     "text": [
      "2\n",
      "2.0\n",
      "(2+0j)\n"
     ]
    }
   ],
   "source": [
    "a=2\n",
    "print(a)\n",
    "b=float(a)\n",
    "print(b)\n",
    "z=complex(a)\n",
    "print(z)"
   ]
  },
  {
   "cell_type": "code",
   "execution_count": 28,
   "id": "4554af48-1386-41e5-8eb8-4b574b4fc2c3",
   "metadata": {},
   "outputs": [
    {
     "name": "stdout",
     "output_type": "stream",
     "text": [
      "4.45\n",
      "4.45\n"
     ]
    }
   ],
   "source": [
    "c=4.45\n",
    "print(c)\n",
    "d=int(c)\n",
    "print(c)"
   ]
  },
  {
   "cell_type": "markdown",
   "id": "9b4fa376-ed81-449f-9c2d-eda5f9784d6b",
   "metadata": {},
   "source": [
    "****Taking Input From User****"
   ]
  },
  {
   "cell_type": "code",
   "execution_count": 2,
   "id": "d1c54cd1-f966-4c05-9cfb-dea048d1d554",
   "metadata": {},
   "outputs": [
    {
     "name": "stdin",
     "output_type": "stream",
     "text": [
      "Enter your name pooja\n"
     ]
    },
    {
     "name": "stdout",
     "output_type": "stream",
     "text": [
      "<class 'str'> pooja\n"
     ]
    }
   ],
   "source": [
    "fullName=input(\"Enter your name\")\n",
    "print(type(fullName),fullName)"
   ]
  },
  {
   "cell_type": "code",
   "execution_count": 6,
   "id": "45f47e1f-0197-417c-ba93-fb82532af1dd",
   "metadata": {},
   "outputs": [
    {
     "name": "stdin",
     "output_type": "stream",
     "text": [
      "enter any value: 56\n"
     ]
    },
    {
     "name": "stdout",
     "output_type": "stream",
     "text": [
      "<class 'str'> 56\n"
     ]
    }
   ],
   "source": [
    "val=input(\"enter any value:\")\n",
    "print(type(val),val)  # here we are expecting class should be 'int' but it is showing 'str' beacause every input in python is consider as a String hence there is need of type casting"
   ]
  },
  {
   "cell_type": "code",
   "execution_count": 8,
   "id": "3a18ea9c-aeb8-4d01-9b76-c72ac7232953",
   "metadata": {},
   "outputs": [
    {
     "name": "stdin",
     "output_type": "stream",
     "text": [
      "enter any value: 23\n"
     ]
    },
    {
     "name": "stdout",
     "output_type": "stream",
     "text": [
      "<class 'int'> 23\n"
     ]
    }
   ],
   "source": [
    "val=int(input(\"enter any value:\"))\n",
    "print(type(val),val)"
   ]
  },
  {
   "cell_type": "code",
   "execution_count": 14,
   "id": "d7187dc1-f78b-4ff5-a5e8-fc970116c6b8",
   "metadata": {},
   "outputs": [
    {
     "name": "stdout",
     "output_type": "stream",
     "text": [
      "P99SOFT\n"
     ]
    }
   ],
   "source": [
    "# Concatenation of two strings using '+'operator\n",
    "str1=\"P99\"\n",
    "str2=\"SOFT\"\n",
    "print(str1+str2)"
   ]
  },
  {
   "cell_type": "code",
   "execution_count": 18,
   "id": "73a43199-60dd-48b4-81c3-05fe6586bd93",
   "metadata": {},
   "outputs": [
    {
     "data": {
      "text/plain": [
       "11"
      ]
     },
     "execution_count": 18,
     "metadata": {},
     "output_type": "execute_result"
    }
   ],
   "source": [
    "# To check length of string\n",
    "str2=\"P99SOFTLONI\"\n",
    "len(str2)"
   ]
  },
  {
   "cell_type": "code",
   "execution_count": 20,
   "id": "56cfeb73-9c93-4961-99b7-8b011c5aeceb",
   "metadata": {},
   "outputs": [
    {
     "name": "stdout",
     "output_type": "stream",
     "text": [
      "e\n"
     ]
    }
   ],
   "source": [
    "# NOTE\n",
    "# WE CAN JUST ACESS CHARACTERS FROM STRING USING INDEXING CANNOT MODIFYING JUST LIKE STR[1]=T\n",
    "str=\"selflearning\"\n",
    "print(str[1])"
   ]
  },
  {
   "cell_type": "code",
   "execution_count": 22,
   "id": "82dc5184-d864-41e1-8bf5-fd274da2d71c",
   "metadata": {},
   "outputs": [
    {
     "name": "stdout",
     "output_type": "stream",
     "text": [
      "mot\n",
      "vation\n",
      "vatio\n"
     ]
    }
   ],
   "source": [
    "#SLICING\n",
    "str=\"motivation\"\n",
    "print(str[0:3])\n",
    "print(str[4:len(str)])\n",
    "print(str[-6:-1])"
   ]
  },
  {
   "cell_type": "code",
   "execution_count": 24,
   "id": "c97447ee-8831-4a07-a041-5ebcbe0cf9e1",
   "metadata": {},
   "outputs": [
    {
     "name": "stdout",
     "output_type": "stream",
     "text": [
      "True\n",
      "False\n",
      "True\n",
      "Pooja\n",
      "I am learning javascript\n",
      "5\n",
      "14\n",
      "-1\n",
      "1\n",
      "2\n",
      "1\n"
     ]
    }
   ],
   "source": [
    "#string functions\n",
    "str=\"I am learning python\"\n",
    "print(str.endswith(\"python\"))\n",
    "print(str.endswith(\"pyth\"))\n",
    "print(str.endswith(\"on\"))\n",
    "# capitalize()   it makes first letter of a string capital\n",
    "str1=\"pooja\"\n",
    "print(str1.capitalize())\n",
    "#replace function\n",
    "print(str.replace(\"python\",\"javascript\"))\n",
    "#find function ==> returns the first index\n",
    "print(str.find(\"l\"))\n",
    "print(str.find(\"python\"))\n",
    "print(str.find(\"z\"))\n",
    "#count ==> return occurrences of that string\n",
    "print(str.count(\"i\"))\n",
    "print(str.count(\"a\"))\n",
    "print(str.count(\"python\"))"
   ]
  },
  {
   "cell_type": "code",
   "execution_count": 28,
   "id": "1204e6b2-6bbe-4724-b968-4dd6241e3bed",
   "metadata": {},
   "outputs": [
    {
     "name": "stdin",
     "output_type": "stream",
     "text": [
      "enter your name rani\n"
     ]
    },
    {
     "name": "stdout",
     "output_type": "stream",
     "text": [
      "length of your enterd string is: 4\n"
     ]
    }
   ],
   "source": [
    "name=input(\"enter your name\")\n",
    "print(\"length of your enterd string is:\",len(name))"
   ]
  },
  {
   "cell_type": "code",
   "execution_count": 30,
   "id": "4845aed7-d714-4ccc-80c4-d4d4daec80da",
   "metadata": {},
   "outputs": [
    {
     "name": "stdout",
     "output_type": "stream",
     "text": [
      "[89.6, 76, 75, 75, 45]\n",
      "76\n",
      "[90, 76, 75, 75, 45]\n"
     ]
    }
   ],
   "source": [
    "#list in python  ====> mutable,square braces,duplicats are alloowed\n",
    "marks=[89.6,76,75,75,45]\n",
    "print(marks)\n",
    "print(marks[1])\n",
    "marks[0]=90\n",
    "print(marks)"
   ]
  },
  {
   "cell_type": "code",
   "execution_count": 32,
   "id": "b1be4be7-9f3a-45e6-9b4a-0fd10a55e7ae",
   "metadata": {},
   "outputs": [
    {
     "name": "stdout",
     "output_type": "stream",
     "text": [
      "6\n",
      "pooja\n",
      "pooja@123\n"
     ]
    }
   ],
   "source": [
    "# list can contain values with different datatype\n",
    "stud=[\"pooja\",6,\"pooja@123\"]\n",
    "print(stud[1])\n",
    "print(stud[0])\n",
    "print(stud[2])"
   ]
  },
  {
   "cell_type": "code",
   "execution_count": 34,
   "id": "7f3bbd3d-5fbf-4c3f-b850-15ea006eeb1d",
   "metadata": {},
   "outputs": [
    {
     "name": "stdout",
     "output_type": "stream",
     "text": [
      "[23, 45]\n",
      "[23, 45, 32, 65]\n"
     ]
    }
   ],
   "source": [
    "#slicing on list\n",
    "age=[23,45,32,65,12]\n",
    "print(age[0:2])\n",
    "print(age[-5:-1])"
   ]
  },
  {
   "cell_type": "code",
   "execution_count": 36,
   "id": "5a3920b4-80ec-4507-90bf-85039bfa53cb",
   "metadata": {},
   "outputs": [
    {
     "name": "stdout",
     "output_type": "stream",
     "text": [
      "[2, 4, 3, 6, 8, 1, 9]\n",
      "[2, 4, 3, 6, 8, 1, 9, 11]\n",
      "[1, 2, 3, 4, 6, 8, 9, 11]\n",
      "[11, 9, 8, 6, 4, 3, 2, 1]\n",
      "[1, 2, 3, 4, 6, 8, 9, 11]\n"
     ]
    }
   ],
   "source": [
    "#list methods\n",
    "list=[2,4,3,6,8,1,9]\n",
    "print(list)\n",
    "list.append(11)\n",
    "print(list)\n",
    "list.sort()\n",
    "print(list)\n",
    "#sortin in desc order\n",
    "list.sort(reverse=True)\n",
    "print(list)\n",
    "#reverse list\n",
    "list.reverse()\n",
    "print(list)"
   ]
  },
  {
   "cell_type": "code",
   "execution_count": 38,
   "id": "de69f324-05a3-4d39-b276-f5931374834e",
   "metadata": {},
   "outputs": [
    {
     "name": "stdout",
     "output_type": "stream",
     "text": [
      "[7, 2, 3, 4, 1, 5]\n",
      "[7, 2, 3, 1, 5]\n",
      "[2, 3, 1, 5]\n"
     ]
    }
   ],
   "source": [
    "list1=[2,3,4,1,5]\n",
    "list1.insert(0,7)\n",
    "print(list1)\n",
    "list1.remove(4)    #remove first occurences of element\n",
    "print(list1)\n",
    "list1.pop(0)       # remove element at specific index\n",
    "print(list1)"
   ]
  },
  {
   "cell_type": "code",
   "execution_count": 44,
   "id": "e50fb133-33cf-44d5-afff-caf250b28d0e",
   "metadata": {},
   "outputs": [
    {
     "name": "stdin",
     "output_type": "stream",
     "text": [
      "enter first movie gajani\n",
      "enter second movie mission managal\n",
      "enter third  movie rammaya vastavaiya\n"
     ]
    },
    {
     "name": "stdout",
     "output_type": "stream",
     "text": [
      "['gajani', 'mission managal', 'rammaya vastavaiya']\n"
     ]
    }
   ],
   "source": [
    "movies=[]\n",
    "mov1=input(\"enter first movie\")\n",
    "mov2=input(\"enter second movie\")\n",
    "mov3=input(\"enter third  movie\")\n",
    "movies.append(mov1)\n",
    "movies.append(mov2)\n",
    "movies.append(mov3)\n",
    "print(movies)"
   ]
  },
  {
   "cell_type": "code",
   "execution_count": 40,
   "id": "8e54ae08-1574-4921-b050-64f7960c1e84",
   "metadata": {},
   "outputs": [
    {
     "name": "stdout",
     "output_type": "stream",
     "text": [
      "<class 'tuple'>\n",
      "3\n"
     ]
    }
   ],
   "source": [
    "# tupple in python===> immutable,round braces,duplicates are allowed\n",
    "tup=(1,2,3,4,5,6,6)\n",
    "print(type(tup))\n",
    "print(tup[2])"
   ]
  },
  {
   "cell_type": "code",
   "execution_count": 42,
   "id": "5cf7c594-175e-4d4a-8d79-55471cf26d28",
   "metadata": {},
   "outputs": [
    {
     "name": "stdout",
     "output_type": "stream",
     "text": [
      "1\n",
      "2\n"
     ]
    }
   ],
   "source": [
    "#tuple methods\n",
    "print(tup.index(2))\n",
    "print(tup.count(6))"
   ]
  },
  {
   "cell_type": "code",
   "execution_count": 46,
   "id": "536a584d-f58d-4334-a558-b58cc0483975",
   "metadata": {},
   "outputs": [
    {
     "name": "stdout",
     "output_type": "stream",
     "text": [
      "2\n"
     ]
    }
   ],
   "source": [
    "grade=(\"B\",\"A\",\"A\",\"C\")\n",
    "print(grade.count(\"A\"))"
   ]
  },
  {
   "cell_type": "code",
   "execution_count": 48,
   "id": "7a988b9c-2ed8-4c51-b4b9-54068414160a",
   "metadata": {},
   "outputs": [
    {
     "name": "stdout",
     "output_type": "stream",
     "text": [
      "{'userNames': 'pooja', 'roll no': 6, 'email': 'pooja@123', 'marks': [90, 9, 91, 92, 93]}\n"
     ]
    }
   ],
   "source": [
    "#dictionary ===> mutable, dulicate keys are not allowed , store key value pair, curley braces, unorderd\n",
    "dict1={\n",
    "    \"userNames\":\"pooja\",\n",
    "     \"roll no\":6,\n",
    "    \"email\":\"pooja@123\",\n",
    "    \"marks\":[90,9,91,92,93]\n",
    "}\n",
    "print(dict1)\n"
   ]
  },
  {
   "cell_type": "code",
   "execution_count": 50,
   "id": "a1522e44-39d9-46b1-94d3-ce44f1084643",
   "metadata": {},
   "outputs": [
    {
     "name": "stdout",
     "output_type": "stream",
     "text": [
      "6\n",
      "[90, 9, 91, 92, 93]\n"
     ]
    }
   ],
   "source": [
    "print(dict1[\"roll no\"])\n",
    "print(dict1[\"marks\"])"
   ]
  },
  {
   "cell_type": "code",
   "execution_count": 52,
   "id": "60681e10-afcd-4113-8011-3cb933974712",
   "metadata": {},
   "outputs": [
    {
     "name": "stdout",
     "output_type": "stream",
     "text": [
      "{'userNames': 'pooja', 'roll no': 6, 'email': 'pooja@12345', 'marks': [90, 9, 91, 92, 93]}\n"
     ]
    }
   ],
   "source": [
    "dict1[\"email\"]=\"pooja@12345\"\n",
    "print(dict1)"
   ]
  },
  {
   "cell_type": "code",
   "execution_count": 54,
   "id": "eb8f1a50-51ca-4429-99dc-527defae7c4a",
   "metadata": {},
   "outputs": [
    {
     "name": "stdout",
     "output_type": "stream",
     "text": [
      "{'user': 'kiran', 'marks': {'os': 95, 'DL': 90}}\n",
      "{'os': 95, 'DL': 90}\n",
      "95\n"
     ]
    }
   ],
   "source": [
    "dict2={\n",
    "\"user\":\"kiran\",\n",
    " \"marks\":{\n",
    " \"os\":95,\n",
    " \"DL\":90\n",
    " }\n",
    "}\n",
    "print(dict2)\n",
    "print(dict2[\"marks\"])\n",
    "print(dict2[\"marks\"][\"os\"])"
   ]
  },
  {
   "cell_type": "code",
   "execution_count": 56,
   "id": "ffdafa3a-b3e6-49da-80ad-62d60c2b427d",
   "metadata": {},
   "outputs": [
    {
     "name": "stdout",
     "output_type": "stream",
     "text": [
      "dict_keys(['user', 'marks'])\n",
      "2\n",
      "dict_values(['kiran', {'os': 95, 'DL': 90}])\n",
      "dict_items([('user', 'kiran'), ('marks', {'os': 95, 'DL': 90})])\n",
      "kiran\n",
      "kiran\n"
     ]
    }
   ],
   "source": [
    "# dictionary methods\n",
    "#1) keys()\n",
    "print(dict2.keys())\n",
    "print(len(dict2.keys()))\n",
    "#2) values()\n",
    "print(dict2.values())\n",
    "#3)items()\n",
    "print(dict2.items())\n",
    "#4) get()\n",
    "print(dict2.get(\"user\"))\n",
    "print(dict2[\"user\"])   # this also written same op as above line but diff is that if mistakely we give any wrong key inside this it will written an error and above line will written none \n"
   ]
  },
  {
   "cell_type": "markdown",
   "id": "cf325bed-5ce2-41ba-8c8e-3d2f50c1e755",
   "metadata": {},
   "source": [
    "****Set****-Set items are unordered, unchangeable, and do not allow duplicate values."
   ]
  },
  {
   "cell_type": "code",
   "execution_count": null,
   "id": "e7736e93-82c3-4fbf-b554-b8bcbe2adf5a",
   "metadata": {},
   "outputs": [],
   "source": []
  }
 ],
 "metadata": {
  "kernelspec": {
   "display_name": "Python 3 (ipykernel)",
   "language": "python",
   "name": "python3"
  },
  "language_info": {
   "codemirror_mode": {
    "name": "ipython",
    "version": 3
   },
   "file_extension": ".py",
   "mimetype": "text/x-python",
   "name": "python",
   "nbconvert_exporter": "python",
   "pygments_lexer": "ipython3",
   "version": "3.12.4"
  }
 },
 "nbformat": 4,
 "nbformat_minor": 5
}
