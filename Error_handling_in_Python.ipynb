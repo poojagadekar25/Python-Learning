{
 "cells": [
  {
   "cell_type": "markdown",
   "id": "6a653e22-a7f4-4268-872f-9751113ea815",
   "metadata": {},
   "source": [
    "Exception vs Error\n",
    "- Error handling is a broader concept that includes dealing with any kind of error (both syntax and runtime).\n",
    "- When the proper syntax of the language is not followed then a syntax error is thrown.\n",
    "- exceptions nothing but runtime errors.They are unexpected events that disrupt the normal flow of a program."
   ]
  },
  {
   "cell_type": "code",
   "execution_count": 50,
   "id": "da9351f1-b169-4e9c-b39d-c12298f32e8d",
   "metadata": {},
   "outputs": [
    {
     "ename": "SyntaxError",
     "evalue": "expected ':' (965396632.py, line 3)",
     "output_type": "error",
     "traceback": [
      "\u001b[1;36m  Cell \u001b[1;32mIn[50], line 3\u001b[1;36m\u001b[0m\n\u001b[1;33m    if(age>18)\u001b[0m\n\u001b[1;37m              ^\u001b[0m\n\u001b[1;31mSyntaxError\u001b[0m\u001b[1;31m:\u001b[0m expected ':'\n"
     ]
    }
   ],
   "source": [
    "# ex of error in python\n",
    "age=20\n",
    "if(age>18)\n",
    "    print(\"you can Drive\")\n",
    "# here colon is not given after the if condition hence it will throw syntax error"
   ]
  },
  {
   "cell_type": "code",
   "execution_count": 14,
   "id": "27934c1d-5bf8-4f77-b65c-6087357a6691",
   "metadata": {},
   "outputs": [
    {
     "name": "stdout",
     "output_type": "stream",
     "text": [
      "you can Drive\n"
     ]
    }
   ],
   "source": [
    "age=20\n",
    "if(age>18);\n",
    "    print(\"you can Drive\")"
   ]
  },
  {
   "cell_type": "code",
   "execution_count": 10,
   "id": "d9bdc50f-b7dd-4eec-b9cb-4e970ad6e58e",
   "metadata": {},
   "outputs": [
    {
     "ename": "SyntaxError",
     "evalue": "unterminated string literal (detected at line 2) (358500816.py, line 2)",
     "output_type": "error",
     "traceback": [
      "\u001b[1;36m  Cell \u001b[1;32mIn[10], line 2\u001b[1;36m\u001b[0m\n\u001b[1;33m    print(\"I am working as a Trainee at P99SOFT)\u001b[0m\n\u001b[1;37m          ^\u001b[0m\n\u001b[1;31mSyntaxError\u001b[0m\u001b[1;31m:\u001b[0m unterminated string literal (detected at line 2)\n"
     ]
    }
   ],
   "source": [
    "# another ex\n",
    "print(\"I am working as a Trainee at P99SOFT)\n",
    "# Here double quotes are not given at the end of string hence it will throw syntax error"
   ]
  },
  {
   "cell_type": "code",
   "execution_count": 16,
   "id": "91ad8cad-c5f9-4852-9966-e9cda8b2f07b",
   "metadata": {},
   "outputs": [
    {
     "name": "stdout",
     "output_type": "stream",
     "text": [
      "I am working as a Trainee at P99SOFT\n"
     ]
    }
   ],
   "source": [
    "print(\"I am working as a Trainee at P99SOFT\")"
   ]
  },
  {
   "cell_type": "code",
   "execution_count": 12,
   "id": "924255fd-b936-4277-93e7-7ec4d6a032c0",
   "metadata": {},
   "outputs": [
    {
     "ename": "IndentationError",
     "evalue": "expected an indented block after 'if' statement on line 2 (2677356688.py, line 3)",
     "output_type": "error",
     "traceback": [
      "\u001b[1;36m  Cell \u001b[1;32mIn[12], line 3\u001b[1;36m\u001b[0m\n\u001b[1;33m    print(\"Congratulations You Are Passed The Exam\")\u001b[0m\n\u001b[1;37m    ^\u001b[0m\n\u001b[1;31mIndentationError\u001b[0m\u001b[1;31m:\u001b[0m expected an indented block after 'if' statement on line 2\n"
     ]
    }
   ],
   "source": [
    "marks=90\n",
    "if(marks>80):\n",
    "print(\"Congratulations You Are Passed The Exam\")\n",
    "#here it will throw an indentation error as indentation is not given\n"
   ]
  },
  {
   "cell_type": "code",
   "execution_count": 18,
   "id": "e384249a-deb0-44e9-87d7-e2192faf1586",
   "metadata": {},
   "outputs": [
    {
     "name": "stdout",
     "output_type": "stream",
     "text": [
      "Congratulations You Are Passed The Exam\n"
     ]
    }
   ],
   "source": [
    "marks=90\n",
    "if(marks>80):\n",
    "    print(\"Congratulations You Are Passed The Exam\")"
   ]
  },
  {
   "cell_type": "markdown",
   "id": "a3d2ada3-3a19-4dac-a571-b869525195bc",
   "metadata": {},
   "source": [
    "******Built-in Exceptions in Python*******"
   ]
  },
  {
   "cell_type": "markdown",
   "id": "10514ea7-af8a-45d0-9b64-5c86d0e9d8cc",
   "metadata": {},
   "source": [
    "1) Arithmetic errors ====> raised when mathematical calculation fails"
   ]
  },
  {
   "cell_type": "code",
   "execution_count": 35,
   "id": "d49ab58e-39fe-4d05-9cea-31f3503462b9",
   "metadata": {},
   "outputs": [
    {
     "ename": "ZeroDivisionError",
     "evalue": "division by zero",
     "output_type": "error",
     "traceback": [
      "\u001b[1;31m---------------------------------------------------------------------------\u001b[0m",
      "\u001b[1;31mZeroDivisionError\u001b[0m                         Traceback (most recent call last)",
      "Cell \u001b[1;32mIn[35], line 4\u001b[0m\n\u001b[0;32m      2\u001b[0m a\u001b[38;5;241m=\u001b[39m\u001b[38;5;241m10\u001b[39m\n\u001b[0;32m      3\u001b[0m b\u001b[38;5;241m=\u001b[39m\u001b[38;5;241m0\u001b[39m\n\u001b[1;32m----> 4\u001b[0m c\u001b[38;5;241m=\u001b[39ma\u001b[38;5;241m/\u001b[39mb\n\u001b[0;32m      5\u001b[0m \u001b[38;5;28mprint\u001b[39m(c)\n",
      "\u001b[1;31mZeroDivisionError\u001b[0m: division by zero"
     ]
    }
   ],
   "source": [
    "#Ex of arithmetic errors\n",
    "a=10\n",
    "b=0\n",
    "c=a/b\n",
    "print(c)\n",
    "# here when we divide any number by zero in mathematics it returns infinity to us but in programming it returns ZeroDivisionError"
   ]
  },
  {
   "cell_type": "code",
   "execution_count": 63,
   "id": "890b4737-d2eb-4fb3-8982-45ece8cfc2ae",
   "metadata": {},
   "outputs": [
    {
     "name": "stdin",
     "output_type": "stream",
     "text": [
      "enter first number 3\n",
      "enter second number 0\n"
     ]
    },
    {
     "name": "stdout",
     "output_type": "stream",
     "text": [
      "3 cannot divides  0 {ZeroDivisionError('division by zero')}\n"
     ]
    }
   ],
   "source": [
    "# handling of arithmetic error using try, except ,else block\n",
    "try:\n",
    "    num1=int(input(\"enter first number\"))\n",
    "    num2=int(input(\"enter second number\"))\n",
    "    res=num1/num2\n",
    "except ZeroDivisionError as e:\n",
    "    print(num1,\"cannot divides \",num2,{e})\n",
    "else:\n",
    "    print(\"Division is:\",res)\n"
   ]
  },
  {
   "cell_type": "markdown",
   "id": "70e34362-f88c-49ed-8d88-cb291a56c06e",
   "metadata": {},
   "source": [
    "2)ImportError====> raise when imported module not found"
   ]
  },
  {
   "cell_type": "code",
   "execution_count": 43,
   "id": "9475df31-4a06-4762-ac38-eb01b5106b54",
   "metadata": {},
   "outputs": [
    {
     "ename": "ModuleNotFoundError",
     "evalue": "No module named 'module'",
     "output_type": "error",
     "traceback": [
      "\u001b[1;31m---------------------------------------------------------------------------\u001b[0m",
      "\u001b[1;31mModuleNotFoundError\u001b[0m                       Traceback (most recent call last)",
      "Cell \u001b[1;32mIn[43], line 1\u001b[0m\n\u001b[1;32m----> 1\u001b[0m \u001b[38;5;28;01mimport\u001b[39;00m \u001b[38;5;21;01mmodule\u001b[39;00m\n",
      "\u001b[1;31mModuleNotFoundError\u001b[0m: No module named 'module'"
     ]
    }
   ],
   "source": [
    "import module"
   ]
  },
  {
   "cell_type": "code",
   "execution_count": 67,
   "id": "dd749270-ff28-4594-8d7c-1206331854e5",
   "metadata": {},
   "outputs": [
    {
     "name": "stdout",
     "output_type": "stream",
     "text": [
      "module not found error occured {ModuleNotFoundError(\"No module named 'module'\")}\n"
     ]
    }
   ],
   "source": [
    "# handeling module not found error\n",
    "try:\n",
    "    import module\n",
    "except ModuleNotFoundError as e:\n",
    "    print(\"module not found error occured\",{e})"
   ]
  },
  {
   "cell_type": "code",
   "execution_count": 45,
   "id": "1f9f6238-ecf9-4c94-9d70-f2d5a18ac8de",
   "metadata": {},
   "outputs": [
    {
     "ename": "ModuleNotFoundError",
     "evalue": "No module named 'mathh'",
     "output_type": "error",
     "traceback": [
      "\u001b[1;31m---------------------------------------------------------------------------\u001b[0m",
      "\u001b[1;31mModuleNotFoundError\u001b[0m                       Traceback (most recent call last)",
      "Cell \u001b[1;32mIn[45], line 1\u001b[0m\n\u001b[1;32m----> 1\u001b[0m \u001b[38;5;28;01mimport\u001b[39;00m \u001b[38;5;21;01mmathh\u001b[39;00m\n",
      "\u001b[1;31mModuleNotFoundError\u001b[0m: No module named 'mathh'"
     ]
    }
   ],
   "source": [
    "import mathh  # if correct spell is not given then also this error occurs"
   ]
  },
  {
   "cell_type": "markdown",
   "id": "af030377-ffa1-48b8-bcf7-0d6b22830ca0",
   "metadata": {},
   "source": [
    "3) IndexError =====>In Python, an IndexError occurs when you try to access an element of a list, tuple, or other indexable\n",
    "                    data structures such s string using an index that is out of range. "
   ]
  },
  {
   "cell_type": "code",
   "execution_count": 48,
   "id": "9801dba2-569f-41e7-aed8-15f45a3cd5fc",
   "metadata": {},
   "outputs": [
    {
     "ename": "IndexError",
     "evalue": "list index out of range",
     "output_type": "error",
     "traceback": [
      "\u001b[1;31m---------------------------------------------------------------------------\u001b[0m",
      "\u001b[1;31mIndexError\u001b[0m                                Traceback (most recent call last)",
      "Cell \u001b[1;32mIn[48], line 2\u001b[0m\n\u001b[0;32m      1\u001b[0m my_list\u001b[38;5;241m=\u001b[39m[\u001b[38;5;241m1\u001b[39m,\u001b[38;5;241m4\u001b[39m,\u001b[38;5;241m6\u001b[39m,\u001b[38;5;241m7\u001b[39m]\n\u001b[1;32m----> 2\u001b[0m \u001b[38;5;28mprint\u001b[39m(my_list[\u001b[38;5;241m9\u001b[39m])\n",
      "\u001b[1;31mIndexError\u001b[0m: list index out of range"
     ]
    }
   ],
   "source": [
    "my_list=[1,4,6,7]\n",
    "print(my_list[9])"
   ]
  },
  {
   "cell_type": "code",
   "execution_count": 103,
   "id": "f165e189-f3a5-4af7-a6dc-113c480f6d6f",
   "metadata": {},
   "outputs": [
    {
     "name": "stdin",
     "output_type": "stream",
     "text": [
      "Enter the index you want to access:  1\n"
     ]
    },
    {
     "name": "stdout",
     "output_type": "stream",
     "text": [
      "element at index 1  is : 2\n",
      "Accessed the list element successfully.\n",
      "End of program.\n"
     ]
    }
   ],
   "source": [
    "# handeling index error\n",
    "my_list=[1,2,3,4]\n",
    "try:\n",
    "    index = int(input(\"Enter the index you want to access: \"))\n",
    "    print(\"element at index\",index,\" is :\",my_list[index])\n",
    "except IndexError:\n",
    "    print(\"IndexError: The index you entered is out of range!\")\n",
    "except ValueError:\n",
    "    print(\"ValueError: Please enter a valid integer for the index.\")\n",
    "else:\n",
    "    print(\"Accessed the list element successfully.\")\n",
    "finally:\n",
    "    print(\"End of program.\")\n"
   ]
  },
  {
   "cell_type": "raw",
   "id": "1bd678f6-106d-4031-a053-d0b73ad76839",
   "metadata": {},
   "source": [
    "4) ValueError ====> occurs when\n",
    "                  -Invalid Type Conversion\n",
    "                  -Invalid Value in a Function Argument:\n",
    "                     "
   ]
  },
  {
   "cell_type": "code",
   "execution_count": 53,
   "id": "e599901e-16e7-4628-ad5e-a9ee8cf087f5",
   "metadata": {},
   "outputs": [
    {
     "ename": "ValueError",
     "evalue": "invalid literal for int() with base 10: 'abc'",
     "output_type": "error",
     "traceback": [
      "\u001b[1;31m---------------------------------------------------------------------------\u001b[0m",
      "\u001b[1;31mValueError\u001b[0m                                Traceback (most recent call last)",
      "Cell \u001b[1;32mIn[53], line 2\u001b[0m\n\u001b[0;32m      1\u001b[0m \u001b[38;5;66;03m#ex of value error\u001b[39;00m\n\u001b[1;32m----> 2\u001b[0m \u001b[38;5;28mint\u001b[39m(\u001b[38;5;124m\"\u001b[39m\u001b[38;5;124mabc\u001b[39m\u001b[38;5;124m\"\u001b[39m)\n",
      "\u001b[1;31mValueError\u001b[0m: invalid literal for int() with base 10: 'abc'"
     ]
    }
   ],
   "source": [
    "#Example  of value error\n",
    "int(\"abc\")"
   ]
  },
  {
   "cell_type": "code",
   "execution_count": 105,
   "id": "bab2cbaf-49a5-467d-bbc0-79c059cb834f",
   "metadata": {},
   "outputs": [
    {
     "name": "stdin",
     "output_type": "stream",
     "text": [
      "Enter a number:  rt\n"
     ]
    },
    {
     "name": "stdout",
     "output_type": "stream",
     "text": [
      "ValueError: Please enter a valid integer.\n",
      "End of program.\n"
     ]
    }
   ],
   "source": [
    "# handeling value error\n",
    "try:\n",
    "    user_input = input(\"Enter a number: \")\n",
    "    number = int(user_input)  # This may raise a ValueError\n",
    "    print(f\"You entered the number: {number}\")\n",
    "except ValueError:\n",
    "    print(\"ValueError: Please enter a valid integer.\")\n",
    "else:\n",
    "    print(\"Conversion successful!\")\n",
    "finally:\n",
    "    print(\"End of program.\")\n"
   ]
  },
  {
   "cell_type": "code",
   "execution_count": 55,
   "id": "9ff0ab85-9e53-4120-ab28-dacbe07565a1",
   "metadata": {},
   "outputs": [
    {
     "ename": "ValueError",
     "evalue": "math domain error",
     "output_type": "error",
     "traceback": [
      "\u001b[1;31m---------------------------------------------------------------------------\u001b[0m",
      "\u001b[1;31mValueError\u001b[0m                                Traceback (most recent call last)",
      "Cell \u001b[1;32mIn[55], line 2\u001b[0m\n\u001b[0;32m      1\u001b[0m \u001b[38;5;28;01mimport\u001b[39;00m \u001b[38;5;21;01mmath\u001b[39;00m\n\u001b[1;32m----> 2\u001b[0m math\u001b[38;5;241m.\u001b[39msqrt(\u001b[38;5;241m-\u001b[39m\u001b[38;5;241m5\u001b[39m)\n",
      "\u001b[1;31mValueError\u001b[0m: math domain error"
     ]
    }
   ],
   "source": [
    "import math\n",
    "math.sqrt(-5)"
   ]
  },
  {
   "cell_type": "markdown",
   "id": "4b561c2f-6b01-4d91-bd12-90a880f7c776",
   "metadata": {},
   "source": [
    "5) KeyError =====> occurs when specified key is not found in dictionary\n"
   ]
  },
  {
   "cell_type": "code",
   "execution_count": 60,
   "id": "f246760c-9de2-413b-8a4e-eb89d815c860",
   "metadata": {},
   "outputs": [
    {
     "ename": "KeyError",
     "evalue": "'age'",
     "output_type": "error",
     "traceback": [
      "\u001b[1;31m---------------------------------------------------------------------------\u001b[0m",
      "\u001b[1;31mKeyError\u001b[0m                                  Traceback (most recent call last)",
      "Cell \u001b[1;32mIn[60], line 7\u001b[0m\n\u001b[0;32m      1\u001b[0m \u001b[38;5;66;03m# Ex of KeyError\u001b[39;00m\n\u001b[0;32m      2\u001b[0m \u001b[38;5;28mdict\u001b[39m\u001b[38;5;241m=\u001b[39m{\n\u001b[0;32m      3\u001b[0m     \u001b[38;5;124m\"\u001b[39m\u001b[38;5;124mname\u001b[39m\u001b[38;5;124m\"\u001b[39m:\u001b[38;5;124m\"\u001b[39m\u001b[38;5;124mpooja\u001b[39m\u001b[38;5;124m\"\u001b[39m,\n\u001b[0;32m      4\u001b[0m     \u001b[38;5;124m\"\u001b[39m\u001b[38;5;124mAddress\u001b[39m\u001b[38;5;124m\"\u001b[39m:\u001b[38;5;124m\"\u001b[39m\u001b[38;5;124mLoni\u001b[39m\u001b[38;5;124m\"\u001b[39m,\n\u001b[0;32m      5\u001b[0m      \u001b[38;5;124m\"\u001b[39m\u001b[38;5;124mCompany\u001b[39m\u001b[38;5;124m\"\u001b[39m:\u001b[38;5;124m\"\u001b[39m\u001b[38;5;124mP99SOFT\u001b[39m\u001b[38;5;124m\"\u001b[39m,\n\u001b[0;32m      6\u001b[0m }\n\u001b[1;32m----> 7\u001b[0m \u001b[38;5;28mprint\u001b[39m(\u001b[38;5;28mdict\u001b[39m[\u001b[38;5;124m\"\u001b[39m\u001b[38;5;124mage\u001b[39m\u001b[38;5;124m\"\u001b[39m])\n",
      "\u001b[1;31mKeyError\u001b[0m: 'age'"
     ]
    }
   ],
   "source": [
    "# Ex of KeyError\n",
    "dict={\n",
    "    \"name\":\"pooja\",\n",
    "    \"Address\":\"Loni\",\n",
    "     \"Company\":\"P99SOFT\",\n",
    "}\n",
    "print(dict[\"age\"])"
   ]
  },
  {
   "cell_type": "raw",
   "id": "0bbf5af5-ef81-47d7-ae80-a050dafc1182",
   "metadata": {},
   "source": [
    "6) KeyError ===> occurs when\n",
    "                - Using a Variable Before It is Defined\n",
    "                - Misspelled Variable or Function Name\n",
    "                - Referencing a Variable Out of Scope\n",
    "                - Using Built-in Functions Incorrectly"
   ]
  },
  {
   "cell_type": "code",
   "execution_count": 64,
   "id": "869ac31a-54d2-4ec3-af45-955cb579028a",
   "metadata": {},
   "outputs": [
    {
     "ename": "NameError",
     "evalue": "name 'x' is not defined",
     "output_type": "error",
     "traceback": [
      "\u001b[1;31m---------------------------------------------------------------------------\u001b[0m",
      "\u001b[1;31mNameError\u001b[0m                                 Traceback (most recent call last)",
      "Cell \u001b[1;32mIn[64], line 1\u001b[0m\n\u001b[1;32m----> 1\u001b[0m \u001b[38;5;28mprint\u001b[39m(x)\n",
      "\u001b[1;31mNameError\u001b[0m: name 'x' is not defined"
     ]
    }
   ],
   "source": [
    "print(x)"
   ]
  },
  {
   "cell_type": "code",
   "execution_count": 66,
   "id": "e1cd53de-702e-4bb0-beca-4c98c6c0b0f3",
   "metadata": {},
   "outputs": [
    {
     "ename": "NameError",
     "evalue": "name 'numm' is not defined",
     "output_type": "error",
     "traceback": [
      "\u001b[1;31m---------------------------------------------------------------------------\u001b[0m",
      "\u001b[1;31mNameError\u001b[0m                                 Traceback (most recent call last)",
      "Cell \u001b[1;32mIn[66], line 2\u001b[0m\n\u001b[0;32m      1\u001b[0m num\u001b[38;5;241m=\u001b[39m\u001b[38;5;241m8\u001b[39m\n\u001b[1;32m----> 2\u001b[0m \u001b[38;5;28mprint\u001b[39m(numm)\n",
      "\u001b[1;31mNameError\u001b[0m: name 'numm' is not defined"
     ]
    }
   ],
   "source": [
    "num=8\n",
    "print(numm)"
   ]
  },
  {
   "cell_type": "code",
   "execution_count": 74,
   "id": "94c11db2-7363-4bcd-bb3d-4bf751b6cb15",
   "metadata": {},
   "outputs": [
    {
     "ename": "NameError",
     "evalue": "name 'm' is not defined",
     "output_type": "error",
     "traceback": [
      "\u001b[1;31m---------------------------------------------------------------------------\u001b[0m",
      "\u001b[1;31mNameError\u001b[0m                                 Traceback (most recent call last)",
      "Cell \u001b[1;32mIn[74], line 3\u001b[0m\n\u001b[0;32m      1\u001b[0m \u001b[38;5;28;01mdef\u001b[39;00m \u001b[38;5;21mmy_function\u001b[39m():\n\u001b[0;32m      2\u001b[0m     m\u001b[38;5;241m=\u001b[39m \u001b[38;5;241m5\u001b[39m\n\u001b[1;32m----> 3\u001b[0m \u001b[38;5;28mprint\u001b[39m(m)\n",
      "\u001b[1;31mNameError\u001b[0m: name 'm' is not defined"
     ]
    }
   ],
   "source": [
    "def my_function():\n",
    "    m= 5\n",
    "print(m)  \n"
   ]
  },
  {
   "cell_type": "code",
   "execution_count": 76,
   "id": "91c86026-b3ac-4512-bf37-baa5a15df5a3",
   "metadata": {},
   "outputs": [
    {
     "ename": "NameError",
     "evalue": "name 'print' is not defined",
     "output_type": "error",
     "traceback": [
      "\u001b[1;31m---------------------------------------------------------------------------\u001b[0m",
      "\u001b[1;31mNameError\u001b[0m                                 Traceback (most recent call last)",
      "Cell \u001b[1;32mIn[76], line 1\u001b[0m\n\u001b[1;32m----> 1\u001b[0m \u001b[38;5;28;01mdel\u001b[39;00m \u001b[38;5;28mprint\u001b[39m  \n\u001b[0;32m      2\u001b[0m \u001b[38;5;28mprint\u001b[39m(\u001b[38;5;124m\"\u001b[39m\u001b[38;5;124mHello\u001b[39m\u001b[38;5;124m\"\u001b[39m)\n",
      "\u001b[1;31mNameError\u001b[0m: name 'print' is not defined"
     ]
    }
   ],
   "source": [
    "del print  \n",
    "print(\"Hello\")  \n"
   ]
  },
  {
   "cell_type": "code",
   "execution_count": null,
   "id": "34fe05d8-6f5a-4fe5-9156-ba8173db78d6",
   "metadata": {},
   "outputs": [],
   "source": [
    "7)TypeError====> occurs when\n",
    "                 -Invalid Operation Between Types\n",
    "                 -Function Argument of the Wrong Type\n",
    "                 -Calling a Non-Callable Object\n",
    "                 -Mutating Immutable Objects:"
   ]
  },
  {
   "cell_type": "code",
   "execution_count": 1,
   "id": "f8211920-ab3a-4b02-95d6-87304b31d676",
   "metadata": {},
   "outputs": [
    {
     "ename": "TypeError",
     "evalue": "unsupported operand type(s) for +: 'int' and 'str'",
     "output_type": "error",
     "traceback": [
      "\u001b[1;31m---------------------------------------------------------------------------\u001b[0m",
      "\u001b[1;31mTypeError\u001b[0m                                 Traceback (most recent call last)",
      "Cell \u001b[1;32mIn[1], line 4\u001b[0m\n\u001b[0;32m      2\u001b[0m l\u001b[38;5;241m=\u001b[39m\u001b[38;5;241m7\u001b[39m\n\u001b[0;32m      3\u001b[0m s\u001b[38;5;241m=\u001b[39m\u001b[38;5;124m\"\u001b[39m\u001b[38;5;124mhello\u001b[39m\u001b[38;5;124m\"\u001b[39m\n\u001b[1;32m----> 4\u001b[0m \u001b[38;5;28mprint\u001b[39m(l\u001b[38;5;241m+\u001b[39ms)\n",
      "\u001b[1;31mTypeError\u001b[0m: unsupported operand type(s) for +: 'int' and 'str'"
     ]
    }
   ],
   "source": [
    "# Ex of type error\n",
    "l=7\n",
    "s=\"hello\"\n",
    "print(l+s)"
   ]
  },
  {
   "cell_type": "code",
   "execution_count": 3,
   "id": "bf3bc0d8-eb23-4ae3-888a-ffe436e99c92",
   "metadata": {},
   "outputs": [
    {
     "ename": "TypeError",
     "evalue": "object of type 'int' has no len()",
     "output_type": "error",
     "traceback": [
      "\u001b[1;31m---------------------------------------------------------------------------\u001b[0m",
      "\u001b[1;31mTypeError\u001b[0m                                 Traceback (most recent call last)",
      "Cell \u001b[1;32mIn[3], line 1\u001b[0m\n\u001b[1;32m----> 1\u001b[0m \u001b[38;5;28mlen\u001b[39m(\u001b[38;5;241m5\u001b[39m)\n",
      "\u001b[1;31mTypeError\u001b[0m: object of type 'int' has no len()"
     ]
    }
   ],
   "source": [
    "len(5)  # len() expects a sequence (e.g., string, list), not an integer\n"
   ]
  },
  {
   "cell_type": "code",
   "execution_count": 5,
   "id": "87028f11-6595-4871-bc19-fdab7ae03d58",
   "metadata": {},
   "outputs": [
    {
     "ename": "TypeError",
     "evalue": "'tuple' object does not support item assignment",
     "output_type": "error",
     "traceback": [
      "\u001b[1;31m---------------------------------------------------------------------------\u001b[0m",
      "\u001b[1;31mTypeError\u001b[0m                                 Traceback (most recent call last)",
      "Cell \u001b[1;32mIn[5], line 2\u001b[0m\n\u001b[0;32m      1\u001b[0m my_tuple \u001b[38;5;241m=\u001b[39m (\u001b[38;5;241m1\u001b[39m, \u001b[38;5;241m2\u001b[39m, \u001b[38;5;241m3\u001b[39m)\n\u001b[1;32m----> 2\u001b[0m my_tuple[\u001b[38;5;241m0\u001b[39m] \u001b[38;5;241m=\u001b[39m \u001b[38;5;241m10\u001b[39m\n",
      "\u001b[1;31mTypeError\u001b[0m: 'tuple' object does not support item assignment"
     ]
    }
   ],
   "source": [
    "my_tuple = (1, 2, 3)\n",
    "my_tuple[0] = 10  # Tuples are immutable and can't be changed\n"
   ]
  },
  {
   "cell_type": "markdown",
   "id": "62cbcefe-0220-49e9-978c-a74f63f5089d",
   "metadata": {},
   "source": [
    "********Exception handling with try, except, else, and finally*****"
   ]
  },
  {
   "cell_type": "raw",
   "id": "740a023e-e261-4b36-804e-30930e7b22fa",
   "metadata": {},
   "source": [
    "Try: This block will test the excepted error to occur\n",
    "Except:  Here you can handle the error\n",
    "Else: If there is no exception then this block will be executed\n",
    "Finally: Finally block always gets executed either exception is generated or not"
   ]
  },
  {
   "cell_type": "code",
   "execution_count": 3,
   "id": "6ea7ec5c-e640-40e6-8ad4-3f2b2b2341e0",
   "metadata": {},
   "outputs": [
    {
     "name": "stdout",
     "output_type": "stream",
     "text": [
      "the sum is 2.5\n",
      "Sorry ! You are dividing by zero \n"
     ]
    }
   ],
   "source": [
    "def divide(x,y):\n",
    "    try:\n",
    "      c=x/y\n",
    "      print(\"the sum is\",c)\n",
    "    except ZeroDivisionError: \n",
    "      print(\"Sorry ! You are dividing by zero \") \n",
    "divide(5,2)\n",
    "divide(5,0)\n",
    "    \n",
    "    "
   ]
  },
  {
   "cell_type": "code",
   "execution_count": 13,
   "id": "38b20002-e49e-437d-a7db-c1a97846c607",
   "metadata": {},
   "outputs": [
    {
     "name": "stdin",
     "output_type": "stream",
     "text": [
      "Enter a number:  2\n"
     ]
    }
   ],
   "source": [
    "try:\n",
    "    x = int(input(\"Enter a number: \"))\n",
    "    result = 10 / x\n",
    "except ZeroDivisionError:\n",
    "    print(\"You cannot divide by zero.\")\n",
    "except ValueError:\n",
    "    print(\"Invalid input. Please enter a valid number.\")\n",
    "except Exception as e:\n",
    "    print(f\"An error occurred: {e}\")"
   ]
  },
  {
   "cell_type": "markdown",
   "id": "912743a5-6a5a-459f-85b1-0aaeeedff43e",
   "metadata": {},
   "source": [
    "*****else clause in python*******"
   ]
  },
  {
   "cell_type": "raw",
   "id": "7b9d7143-d4c7-436b-8743-c9cb6a5ddd28",
   "metadata": {},
   "source": [
    "else block get executed only when code written in try block does not raise an exception"
   ]
  },
  {
   "cell_type": "code",
   "execution_count": 22,
   "id": "ce537126-87b7-4b68-becf-f848c64d409f",
   "metadata": {},
   "outputs": [
    {
     "name": "stdout",
     "output_type": "stream",
     "text": [
      "The accessed value is: 20\n"
     ]
    }
   ],
   "source": [
    "# Example\n",
    "my_list = [10, 20, 30]\n",
    "\n",
    "try:\n",
    "    value = my_list[1]\n",
    "except IndexError :\n",
    "    print(\"IndexError caught\")\n",
    "else:\n",
    "    print(\"The accessed value is:\" ,value)\n"
   ]
  },
  {
   "cell_type": "markdown",
   "id": "feeee9f4-b0b2-4e5b-9c0f-08bbf5e1fba3",
   "metadata": {},
   "source": [
    "****finally keyword*****"
   ]
  },
  {
   "cell_type": "raw",
   "id": "9ed736bd-9947-4c11-9393-c0d8f671dcf9",
   "metadata": {},
   "source": [
    "code written inside finally block always get executed either exception raise or may not raise\n",
    "Note==> We can not use finally block without use of try-except block "
   ]
  },
  {
   "cell_type": "code",
   "execution_count": 24,
   "id": "d691f980-2796-46b1-b57b-89678268f206",
   "metadata": {},
   "outputs": [
    {
     "name": "stdout",
     "output_type": "stream",
     "text": [
      "Yeah ! Your answer is : 1\n",
      "This is always executed\n",
      "Sorry ! You are dividing by zero \n",
      "This is always executed\n"
     ]
    }
   ],
   "source": [
    "def divide(x, y): \n",
    "    try: \n",
    "        result = x // y \n",
    "    except ZeroDivisionError: \n",
    "        print(\"Sorry ! You are dividing by zero \") \n",
    "    else:\n",
    "        print(\"Yeah ! Your answer is :\", result) \n",
    "    finally:  \n",
    "        print('This is always executed')   \n",
    "\n",
    "\n",
    "divide(3, 2) \n",
    "divide(3, 0)"
   ]
  },
  {
   "cell_type": "markdown",
   "id": "2513ea35-e10d-4a40-b1f5-889325847300",
   "metadata": {},
   "source": [
    "*****Custom Exception****"
   ]
  },
  {
   "cell_type": "raw",
   "id": "6e5d2d96-c347-44b0-871b-77db7027c824",
   "metadata": {},
   "source": [
    "A custom exception in Python is a user-defined error that extends the base Exception class. Custom exceptions allow\n",
    "you to create meaningful error messages and handle specific situations in a more readable and controlled way, especially \n",
    "when the built-in exceptions like ValueError,TypeError, etc., don't fit your needs.\n"
   ]
  },
  {
   "cell_type": "code",
   "execution_count": 20,
   "id": "1fa37fe7-5633-4344-988c-0ebb5901d361",
   "metadata": {},
   "outputs": [
    {
     "name": "stdin",
     "output_type": "stream",
     "text": [
      "Enter your age:  1\n"
     ]
    },
    {
     "name": "stdout",
     "output_type": "stream",
     "text": [
      "Person is not eligible to vote.\n",
      "Thank you\n"
     ]
    }
   ],
   "source": [
    "#Examplw of custom exception\n",
    "class AgeError(Exception):\n",
    "    \"Your age is not greater than 18\"  # Corrected docstring with proper indentation\n",
    "    pass #pass statement ensures the class doesn't do anything except inherit from Exception.\n",
    "\n",
    "try:\n",
    "    age = int(input(\"Enter your age: \"))\n",
    "    if(age < 18):  \n",
    "        raise AgeError\n",
    "except AgeError:\n",
    "    print(\"Person is not eligible to vote.\")\n",
    "else:\n",
    "    print(\"You can vote.\")\n",
    "finally:\n",
    "    print(\"Thank you\")\n"
   ]
  },
  {
   "cell_type": "code",
   "execution_count": 51,
   "id": "d2cf4ac7-d9e3-4737-9b70-0fad0fd1d96e",
   "metadata": {},
   "outputs": [
    {
     "name": "stdin",
     "output_type": "stream",
     "text": [
      "enter amount that you required 500\n"
     ]
    },
    {
     "name": "stdout",
     "output_type": "stream",
     "text": [
      "Transaction complete\n",
      "Thank you\n"
     ]
    }
   ],
   "source": [
    "class WithdrawlError(Exception):\n",
    "    \"\"\"Your balance is less than your amount\"\"\"\n",
    "    pass\n",
    "def Withdraw(amount,balance):\n",
    "    if(balance<amount):\n",
    "        raise WithdrawlError\n",
    "    else:\n",
    "        balance-=amount\n",
    "        return balance\n",
    "try:\n",
    "    balance=500\n",
    "    amount=int(input(\"enter amount that you required\"))\n",
    "    new_bal=Withdraw(amount,balance)\n",
    "except WithdrawlError:\n",
    "    print(\"withdrawl error occured\")\n",
    "# except valuerror:\n",
    "#     print(\"enter correct value\")\n",
    "else:\n",
    "    print(\"Transaction complete\")\n",
    "finally:\n",
    "    print(\"Thank you\")"
   ]
  },
  {
   "cell_type": "markdown",
   "id": "3b8aae16-c002-44ed-a327-1be05884cd00",
   "metadata": {},
   "source": [
    "### "
   ]
  }
 ],
 "metadata": {
  "kernelspec": {
   "display_name": "Python 3 (ipykernel)",
   "language": "python",
   "name": "python3"
  },
  "language_info": {
   "codemirror_mode": {
    "name": "ipython",
    "version": 3
   },
   "file_extension": ".py",
   "mimetype": "text/x-python",
   "name": "python",
   "nbconvert_exporter": "python",
   "pygments_lexer": "ipython3",
   "version": "3.12.4"
  }
 },
 "nbformat": 4,
 "nbformat_minor": 5
}
